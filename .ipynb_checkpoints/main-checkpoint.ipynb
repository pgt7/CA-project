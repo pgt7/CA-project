{
 "cells": [
  {
   "cell_type": "markdown",
   "id": "3dd5a011",
   "metadata": {},
   "source": [
    "# SKILL CRAFT"
   ]
  },
  {
   "attachments": {
    "image.png": {
     "image/png": "[encoded data removed]"
    }
   },
   "cell_type": "markdown",
   "id": "62905282",
   "metadata": {},
   "source": [
    "![image.png](attachment:image.png)"
   ]
  },
  {
   "cell_type": "markdown",
   "id": "e279b684",
   "metadata": {},
   "source": [
    "#### Attribute Information:\n",
    "\n",
    "1. GameID: Unique ID number for each game (integer)\n",
    "2. LeagueIndex: Bronze, Silver, Gold, Platinum, Diamond, Master, GrandMaster, and Professional leagues coded 1-8 (Ordinal)\n",
    "3. Age: Age of each player (integer)\n",
    "4. HoursPerWeek: Reported hours spent playing per week (integer)\n",
    "5. TotalHours: Reported total hours spent playing (integer)\n",
    "6. APM: Action per minute (continuous)\n",
    "7. SelectByHotkeys: Number of unit or building selections made using hotkeys per timestamp (continuous)\n",
    "8. AssignToHotkeys: Number of units or buildings assigned to hotkeys per timestamp (continuous)\n",
    "9. UniqueHotkeys: Number of unique hotkeys used per timestamp (continuous)\n",
    "10. MinimapAttacks: Number of attack actions on minimap per timestamp (continuous)\n",
    "11. MinimapRightClicks: number of right-clicks on minimap per timestamp (continuous)\n",
    "12. NumberOfPACs: Number of PACs per timestamp (continuous)\n",
    "13. GapBetweenPACs: Mean duration in milliseconds between PACs (continuous)\n",
    "14. ActionLatency: Mean latency from the onset of a PACs to their first action in milliseconds (continuous)\n",
    "15. ActionsInPAC: Mean number of actions within each PAC (continuous)\n",
    "16. TotalMapExplored: The number of 24x24 game coordinate grids viewed by the player per timestamp (continuous)\n",
    "17. WorkersMade: Number of SCVs, drones, and probes trained per timestamp (continuous)\n",
    "18. UniqueUnitsMade: Unique unites made per timestamp (continuous)\n",
    "19. ComplexUnitsMade: Number of ghosts, infestors, and high templars trained per timestamp (continuous)\n",
    "20. ComplexAbilitiesUsed: Abilities requiring specific targeting instructions used per timestamp (continuous)"
   ]
  },
  {
   "cell_type": "markdown",
   "id": "a5a01694",
   "metadata": {},
   "source": [
    "#### Data Set Information:\n",
    "\n",
    "- We aggregated screen movements into screen-fixations using a Salvucci & Goldberg (2000) dispersion-threshold algorithm, and defined Perception Action Cycles (PACs) as fixations with at least one action.\n",
    "- Time is recorded in terms of timestamps in the StarCraft 2 replay file. When the game is played on 'faster', 1 real-time second is equivalent to roughly 88.5 timestamps.\n",
    "- List of possible game actions is discussed in Thompson, Blair, Chen, & Henrey (2013)\n"
   ]
  },
  {
   "cell_type": "code",
   "execution_count": 7,
   "id": "4263b663",
   "metadata": {
    "tags": []
   },
   "outputs": [],
   "source": [
    "# import most of libraries\n",
    "import numpy as np\n",
    "import tensorflow as tf\n",
    "import pandas as pd\n",
    "import matplotlib.pyplot as plt\n",
    "from tensorflow.keras.models import Sequential\n",
    "from tensorflow.keras.layers import Activation, Dense\n",
    "from tensorflow.keras.optimizers import Adam\n",
    "from tensorflow.keras.metrics import categorical_crossentropy\n",
    "from sklearn.model_selection import train_test_split\n",
    "from sklearn import preprocessing"
   ]
  },
  {
   "cell_type": "code",
   "execution_count": 3,
   "id": "e5f60cb8",
   "metadata": {
    "tags": []
   },
   "outputs": [
    {
     "name": "stdout",
     "output_type": "stream",
     "text": [
      "[[5 '27' '10' ... 0.0013966 6 0.0]\n",
      " [5 '23' '10' ... 0.0011935 5 0.0]\n",
      " [4 '30' '10' ... 0.00074455 6 0.0]\n",
      " ...\n",
      " [8 '?' '?' ... 0.0012596 4 0.0]\n",
      " [8 '?' '?' ... 0.00061284 6 0.0]\n",
      " [8 '?' '?' ... 0.0015664 7 0.000456868]]\n"
     ]
    }
   ],
   "source": [
    "# load the dataset\n",
    "columns = (1, 2, 3, 4, 5, 6, 7, 8, 9, 10, 11, 12, 13, 14, 15, 16, 17, 18, 19)\n",
    "dataset = pd.read_csv('data/SkillCraft1_Dataset.csv', usecols=columns)\n",
    "\n",
    "# convert DataFrame to numpy\n",
    "# the data has missing value\n",
    "dataset_array = dataset.to_numpy()[:,:-1]\n",
    "print(dataset_array)"
   ]
  },
  {
   "cell_type": "markdown",
   "id": "fe2a937f",
   "metadata": {},
   "source": [
    "### DELETE DUPLICATED RECORDS"
   ]
  },
  {
   "cell_type": "code",
   "execution_count": 4,
   "id": "db363522",
   "metadata": {
    "tags": []
   },
   "outputs": [],
   "source": [
    "# delete duplicated elements\n",
    "dataset_array = np.delete(dataset_array, np.unique(np.where(dataset_array == '?')[0]), axis=0)"
   ]
  },
  {
   "cell_type": "code",
   "execution_count": 5,
   "id": "60a72241",
   "metadata": {
    "tags": []
   },
   "outputs": [],
   "source": [
    "# create train samples\n",
    "train_samples , test_samples = train_test_split(dataset_array, shuffle = True, random_state = 42, train_size = 0.8)"
   ]
  },
  {
   "cell_type": "code",
   "execution_count": 6,
   "id": "baab5fbd",
   "metadata": {
    "tags": []
   },
   "outputs": [],
   "source": [
    "# fetch labels\n",
    "train_labels = (float64) train_samples[:,4]\n",
    "test_labels = (float64) test_samples[:,4]\n",
    "\n",
    "# delete the labels from the samples\n",
    "train_samples = np.delete(train_samples, 4, axis=1)\n",
    "test_samples = np.delete(test_samples, 4, axis=1)\n",
    "\n",
    "# print(f\" train_samples : {train_samples}, \\n train_labels : {train_labels} \\n test_samples  : {test_samples}, \\n test_labels : {test_labels}\")"
   ]
  },
  {
   "cell_type": "markdown",
   "id": "d1db56a7",
   "metadata": {},
   "source": [
    "### Noramlize"
   ]
  },
  {
   "cell_type": "code",
   "execution_count": 17,
   "id": "69f20907",
   "metadata": {
    "tags": []
   },
   "outputs": [],
   "source": [
    "scaled_train_samples = preprocessing.normalize(train_samples.reshape(-1,1))"
   ]
  },
  {
   "cell_type": "code",
   "execution_count": 18,
   "id": "3c65d8fd",
   "metadata": {
    "tags": []
   },
   "outputs": [
    {
     "name": "stdout",
     "output_type": "stream",
     "text": [
      "[[1.]\n",
      " [1.]\n",
      " [1.]\n",
      " ...\n",
      " [1.]\n",
      " [1.]\n",
      " [0.]]\n"
     ]
    }
   ],
   "source": [
    "print(scaled_train_samples)"
   ]
  },
  {
   "cell_type": "markdown",
   "id": "b4e3e71a",
   "metadata": {},
   "source": [
    "## Build The Model"
   ]
  },
  {
   "cell_type": "markdown",
   "id": "7764655e",
   "metadata": {},
   "source": [
    "we used Sequential Model for our MLP."
   ]
  },
  {
   "cell_type": "code",
   "execution_count": 19,
   "id": "83ddb916",
   "metadata": {
    "tags": []
   },
   "outputs": [],
   "source": [
    "model = Sequential([\n",
    "    Dense(units=16, input_shape=(len(scaled_train_samples),18), activation='relu'),\n",
    "    Dense(units=32, activation='relu'),\n",
    "    Dense(units=7, activation='linear')\n",
    "])"
   ]
  },
  {
   "cell_type": "code",
   "execution_count": 20,
   "id": "5380599d",
   "metadata": {
    "tags": []
   },
   "outputs": [
    {
     "name": "stdout",
     "output_type": "stream",
     "text": [
      "Model: \"sequential_2\"\n",
      "_________________________________________________________________\n",
      " Layer (type)                Output Shape              Param #   \n",
      "=================================================================\n",
      " dense_6 (Dense)             (None, 45390, 16)         304       \n",
      "                                                                 \n",
      " dense_7 (Dense)             (None, 45390, 32)         544       \n",
      "                                                                 \n",
      " dense_8 (Dense)             (None, 45390, 7)          231       \n",
      "                                                                 \n",
      "=================================================================\n",
      "Total params: 1,079\n",
      "Trainable params: 1,079\n",
      "Non-trainable params: 0\n",
      "_________________________________________________________________\n"
     ]
    }
   ],
   "source": [
    "model.summary()"
   ]
  },
  {
   "cell_type": "markdown",
   "id": "3deffc91",
   "metadata": {},
   "source": [
    "### compile the model (preprocessing)"
   ]
  },
  {
   "cell_type": "code",
   "execution_count": 21,
   "id": "0f60c2bc",
   "metadata": {
    "tags": []
   },
   "outputs": [],
   "source": [
    "model.compile(\n",
    "    optimizer=Adam(learning_rate=0.0001), \n",
    "    loss='mean_absolute_error', \n",
    "    metrics=['mean_squared_error']\n",
    ")"
   ]
  },
  {
   "cell_type": "markdown",
   "id": "4cde93cc",
   "metadata": {},
   "source": [
    "### Train the model"
   ]
  },
  {
   "cell_type": "code",
   "execution_count": 22,
   "id": "40b4859f",
   "metadata": {
    "tags": []
   },
   "outputs": [
    {
     "ename": "ValueError",
     "evalue": "Failed to convert a NumPy array to a Tensor (Unsupported object type float).",
     "output_type": "error",
     "traceback": [
      "\u001b[1;31m---------------------------------------------------------------------------\u001b[0m",
      "\u001b[1;31mValueError\u001b[0m                                Traceback (most recent call last)",
      "Cell \u001b[1;32mIn[22], line 1\u001b[0m\n\u001b[1;32m----> 1\u001b[0m \u001b[43mmodel\u001b[49m\u001b[38;5;241;43m.\u001b[39;49m\u001b[43mfit\u001b[49m\u001b[43m(\u001b[49m\u001b[43mx\u001b[49m\u001b[38;5;241;43m=\u001b[39;49m\u001b[43mscaled_train_samples\u001b[49m\u001b[43m,\u001b[49m\u001b[43m \u001b[49m\u001b[43my\u001b[49m\u001b[38;5;241;43m=\u001b[39;49m\u001b[43mtrain_labels\u001b[49m\u001b[43m,\u001b[49m\u001b[43m \u001b[49m\u001b[43mbatch_size\u001b[49m\u001b[38;5;241;43m=\u001b[39;49m\u001b[38;5;241;43m10\u001b[39;49m\u001b[43m,\u001b[49m\u001b[43m \u001b[49m\u001b[43mepochs\u001b[49m\u001b[38;5;241;43m=\u001b[39;49m\u001b[38;5;241;43m30\u001b[39;49m\u001b[43m,\u001b[49m\u001b[43m \u001b[49m\u001b[43mshuffle\u001b[49m\u001b[38;5;241;43m=\u001b[39;49m\u001b[38;5;28;43;01mTrue\u001b[39;49;00m\u001b[43m,\u001b[49m\u001b[43m \u001b[49m\u001b[43mverbose\u001b[49m\u001b[38;5;241;43m=\u001b[39;49m\u001b[38;5;241;43m1\u001b[39;49m\u001b[43m)\u001b[49m\n",
      "File \u001b[1;32m~\\AppData\\Local\\Programs\\Python\\Python311\\Lib\\site-packages\\keras\\utils\\traceback_utils.py:70\u001b[0m, in \u001b[0;36mfilter_traceback.<locals>.error_handler\u001b[1;34m(*args, **kwargs)\u001b[0m\n\u001b[0;32m     67\u001b[0m     filtered_tb \u001b[38;5;241m=\u001b[39m _process_traceback_frames(e\u001b[38;5;241m.\u001b[39m__traceback__)\n\u001b[0;32m     68\u001b[0m     \u001b[38;5;66;03m# To get the full stack trace, call:\u001b[39;00m\n\u001b[0;32m     69\u001b[0m     \u001b[38;5;66;03m# `tf.debugging.disable_traceback_filtering()`\u001b[39;00m\n\u001b[1;32m---> 70\u001b[0m     \u001b[38;5;28;01mraise\u001b[39;00m e\u001b[38;5;241m.\u001b[39mwith_traceback(filtered_tb) \u001b[38;5;28;01mfrom\u001b[39;00m \u001b[38;5;28mNone\u001b[39m\n\u001b[0;32m     71\u001b[0m \u001b[38;5;28;01mfinally\u001b[39;00m:\n\u001b[0;32m     72\u001b[0m     \u001b[38;5;28;01mdel\u001b[39;00m filtered_tb\n",
      "File \u001b[1;32m~\\AppData\\Local\\Programs\\Python\\Python311\\Lib\\site-packages\\tensorflow\\python\\framework\\constant_op.py:103\u001b[0m, in \u001b[0;36mconvert_to_eager_tensor\u001b[1;34m(value, ctx, dtype)\u001b[0m\n\u001b[0;32m    101\u001b[0m     dtype \u001b[38;5;241m=\u001b[39m dtypes\u001b[38;5;241m.\u001b[39mas_dtype(dtype)\u001b[38;5;241m.\u001b[39mas_datatype_enum\n\u001b[0;32m    102\u001b[0m ctx\u001b[38;5;241m.\u001b[39mensure_initialized()\n\u001b[1;32m--> 103\u001b[0m \u001b[38;5;28;01mreturn\u001b[39;00m \u001b[43mops\u001b[49m\u001b[38;5;241;43m.\u001b[39;49m\u001b[43mEagerTensor\u001b[49m\u001b[43m(\u001b[49m\u001b[43mvalue\u001b[49m\u001b[43m,\u001b[49m\u001b[43m \u001b[49m\u001b[43mctx\u001b[49m\u001b[38;5;241;43m.\u001b[39;49m\u001b[43mdevice_name\u001b[49m\u001b[43m,\u001b[49m\u001b[43m \u001b[49m\u001b[43mdtype\u001b[49m\u001b[43m)\u001b[49m\n",
      "\u001b[1;31mValueError\u001b[0m: Failed to convert a NumPy array to a Tensor (Unsupported object type float)."
     ]
    }
   ],
   "source": [
    "model.fit(x=scaled_train_samples, y=train_labels, batch_size=10, epochs=30, shuffle=True, verbose=1)"
   ]
  },
  {
   "cell_type": "code",
   "execution_count": null,
   "id": "df6ed521",
   "metadata": {},
   "outputs": [],
   "source": []
  }
 ],
 "metadata": {
  "kernelspec": {
   "display_name": "Python 3 (ipykernel)",
   "language": "python",
   "name": "python3"
  },
  "language_info": {
   "codemirror_mode": {
    "name": "ipython",
    "version": 3
   },
   "file_extension": ".py",
   "mimetype": "text/x-python",
   "name": "python",
   "nbconvert_exporter": "python",
   "pygments_lexer": "ipython3",
   "version": "3.11.2"
  }
 },
 "nbformat": 4,
 "nbformat_minor": 5
}
