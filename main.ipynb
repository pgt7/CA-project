{
 "cells": [
  {
   "cell_type": "markdown",
   "id": "3dd5a011",
   "metadata": {},
   "source": [
    "# SKILL CRAFT"
   ]
  },
  {
   "attachments": {
    "image.png": {
     "image/png": "[encoded data removed]"
    }
   },
   "cell_type": "markdown",
   "id": "62905282",
   "metadata": {},
   "source": [
    "![image.png](attachment:image.png)"
   ]
  },
  {
   "cell_type": "markdown",
   "id": "e279b684",
   "metadata": {},
   "source": [
    "#### Attribute Information:\n",
    "\n",
    "1. GameID: Unique ID number for each game (integer)\n",
    "2. LeagueIndex: Bronze, Silver, Gold, Platinum, Diamond, Master, GrandMaster, and Professional leagues coded 1-8 (Ordinal)\n",
    "3. Age: Age of each player (integer)\n",
    "4. HoursPerWeek: Reported hours spent playing per week (integer)\n",
    "5. TotalHours: Reported total hours spent playing (integer)\n",
    "6. APM: Action per minute (continuous)\n",
    "7. SelectByHotkeys: Number of unit or building selections made using hotkeys per timestamp (continuous)\n",
    "8. AssignToHotkeys: Number of units or buildings assigned to hotkeys per timestamp (continuous)\n",
    "9. UniqueHotkeys: Number of unique hotkeys used per timestamp (continuous)\n",
    "10. MinimapAttacks: Number of attack actions on minimap per timestamp (continuous)\n",
    "11. MinimapRightClicks: number of right-clicks on minimap per timestamp (continuous)\n",
    "12. NumberOfPACs: Number of PACs per timestamp (continuous)\n",
    "13. GapBetweenPACs: Mean duration in milliseconds between PACs (continuous)\n",
    "14. ActionLatency: Mean latency from the onset of a PACs to their first action in milliseconds (continuous)\n",
    "15. ActionsInPAC: Mean number of actions within each PAC (continuous)\n",
    "16. TotalMapExplored: The number of 24x24 game coordinate grids viewed by the player per timestamp (continuous)\n",
    "17. WorkersMade: Number of SCVs, drones, and probes trained per timestamp (continuous)\n",
    "18. UniqueUnitsMade: Unique unites made per timestamp (continuous)\n",
    "19. ComplexUnitsMade: Number of ghosts, infestors, and high templars trained per timestamp (continuous)\n",
    "20. ComplexAbilitiesUsed: Abilities requiring specific targeting instructions used per timestamp (continuous)"
   ]
  },
  {
   "cell_type": "markdown",
   "id": "a5a01694",
   "metadata": {},
   "source": [
    "#### Data Set Information:\n",
    "\n",
    "- We aggregated screen movements into screen-fixations using a Salvucci & Goldberg (2000) dispersion-threshold algorithm, and defined Perception Action Cycles (PACs) as fixations with at least one action.\n",
    "- Time is recorded in terms of timestamps in the StarCraft 2 replay file. When the game is played on 'faster', 1 real-time second is equivalent to roughly 88.5 timestamps.\n",
    "- List of possible game actions is discussed in Thompson, Blair, Chen, & Henrey (2013)\n"
   ]
  },
  {
   "cell_type": "code",
   "execution_count": 135,
   "id": "4263b663",
   "metadata": {
    "tags": []
   },
   "outputs": [],
   "source": [
    "# import most of libraries\n",
    "import numpy as np\n",
    "import tensorflow as tf\n",
    "import pandas as pd\n",
    "import matplotlib.pyplot as plt\n",
    "from tensorflow.keras.models import Sequential\n",
    "from tensorflow.keras.layers import Activation, Dense\n",
    "from tensorflow.keras.optimizers import Adam\n",
    "from keras.optimizers import RMSprop \n",
    "from sklearn.model_selection import train_test_split\n",
    "from sklearn import preprocessing\n",
    "from sklearn.preprocessing import StandardScaler"
   ]
  },
  {
   "cell_type": "code",
   "execution_count": 136,
   "id": "e5f60cb8",
   "metadata": {
    "tags": []
   },
   "outputs": [
    {
     "name": "stdout",
     "output_type": "stream",
     "text": [
      "[[52 5 '27' ... 6 0.0 0.0]\n",
      " [55 5 '23' ... 5 0.0 0.00020757]\n",
      " [56 4 '30' ... 6 0.0 0.00018876]\n",
      " ...\n",
      " [10092 8 '?' ... 4 0.0 0.0]\n",
      " [10094 8 '?' ... 6 0.0 0.00063141]\n",
      " [10095 8 '?' ... 7 0.000456868 0.00089509]]\n"
     ]
    }
   ],
   "source": [
    "# load the dataset\n",
    "columns = (0, 1, 2, 3, 4, 5, 6, 7, 8, 9, 10, 11, 12, 13, 14, 15, 16, 17, 18, 19)\n",
    "target_col = columns.index(5)\n",
    "dataset = pd.read_csv('data/SkillCraft1_Dataset.csv', usecols=columns)\n",
    "\n",
    "# convert DataFrame to numpy\n",
    "# the data has missing value\n",
    "dataset_array = dataset.to_numpy()[:,:]\n",
    "print(dataset_array)"
   ]
  },
  {
   "cell_type": "markdown",
   "id": "fe2a937f",
   "metadata": {},
   "source": [
    "### DELETE DUPLICATED RECORDS"
   ]
  },
  {
   "cell_type": "code",
   "execution_count": 137,
   "id": "db363522",
   "metadata": {
    "tags": []
   },
   "outputs": [],
   "source": [
    "# delete duplicated elements\n",
    "dataset_array = np.delete(dataset_array, np.unique(np.where(dataset_array == '?')[0]), axis=0)"
   ]
  },
  {
   "cell_type": "code",
   "execution_count": 138,
   "id": "60a72241",
   "metadata": {
    "tags": []
   },
   "outputs": [],
   "source": [
    "# create train samples\n",
    "train_dataset , test_dataset = train_test_split(dataset_array, shuffle = True, random_state = 42, train_size = 0.8)"
   ]
  },
  {
   "cell_type": "markdown",
   "id": "d1db56a7",
   "metadata": {},
   "source": [
    "### Noramlize"
   ]
  },
  {
   "cell_type": "code",
   "execution_count": 139,
   "id": "69f20907",
   "metadata": {
    "tags": []
   },
   "outputs": [
    {
     "name": "stdout",
     "output_type": "stream",
     "text": [
      "[[4 '26' '6' ... 9 0.000225946 0.00048665]\n",
      " [5 '20' '24' ... 4 0.0 0.0]\n",
      " [5 '18' '42' ... 9 0.0 0.0]\n",
      " ...\n",
      " [4 '21' '12' ... 7 0.0 0.0]\n",
      " [5 '17' '42' ... 9 7.87e-05 0.00030514]\n",
      " [3 '40' '16' ... 5 0.0 0.0]]\n"
     ]
    }
   ],
   "source": [
    "# instanciate a scaler\n",
    "sc = StandardScaler()\n",
    "\n",
    "# fetch labels\n",
    "train_labels = train_dataset[:,target_col].astype('float32')\n",
    "\n",
    "# delete the labels from the samples\n",
    "train_samples = np.delete(train_dataset, target_col, axis=1)\n",
    "train_samples = np.delete(train_samples, 0, axis=1)\n",
    "\n",
    "print(train_samples)\n",
    "\n",
    "# normalize\n",
    "scaled_train_samples = sc.fit_transform(train_samples).astype('float32')"
   ]
  },
  {
   "cell_type": "code",
   "execution_count": 140,
   "id": "3c65d8fd",
   "metadata": {
    "tags": []
   },
   "outputs": [
    {
     "name": "stdout",
     "output_type": "stream",
     "text": [
      "[[-0.05794376  1.0248634  -0.82102466 ...  1.3360084   1.4856381\n",
      "   1.3087919 ]\n",
      " [ 0.6327252  -0.3888021   0.6876717  ... -1.3460536  -0.53362244\n",
      "  -0.5352336 ]\n",
      " [ 0.6327252  -0.8600239   2.1963682  ...  1.3360084  -0.53362244\n",
      "  -0.5352336 ]\n",
      " ...\n",
      " [-0.05794376 -0.15319121 -0.31812587 ...  0.26318362 -0.53362244\n",
      "  -0.5352336 ]\n",
      " [ 0.6327252  -1.0956348   2.1963682  ...  1.3360084   0.16971292\n",
      "   0.62101   ]\n",
      " [-0.7486127   4.323416    0.01714    ... -0.8096412  -0.53362244\n",
      "  -0.5352336 ]]\n"
     ]
    }
   ],
   "source": [
    "print(scaled_train_samples)"
   ]
  },
  {
   "cell_type": "markdown",
   "id": "b4e3e71a",
   "metadata": {},
   "source": [
    "## Build The Model"
   ]
  },
  {
   "cell_type": "markdown",
   "id": "7764655e",
   "metadata": {},
   "source": [
    "we used Sequential Model for our MLP."
   ]
  },
  {
   "cell_type": "code",
   "execution_count": 141,
   "id": "83ddb916",
   "metadata": {
    "tags": []
   },
   "outputs": [],
   "source": [
    "model = Sequential([\n",
    "    Dense(units=128, input_shape=(train_samples.shape[1],), activation='relu'),\n",
    "    Dense(units=64, activation='relu'),\n",
    "    Dense(units=32, activation='relu'),\n",
    "    Dense(units=16, activation='relu'),\n",
    "    Dense(units=1, activation='linear')\n",
    "])"
   ]
  },
  {
   "cell_type": "code",
   "execution_count": 142,
   "id": "5380599d",
   "metadata": {
    "tags": []
   },
   "outputs": [
    {
     "name": "stdout",
     "output_type": "stream",
     "text": [
      "Model: \"sequential_5\"\n",
      "_________________________________________________________________\n",
      " Layer (type)                Output Shape              Param #   \n",
      "=================================================================\n",
      " dense_27 (Dense)            (None, 128)               2432      \n",
      "                                                                 \n",
      " dense_28 (Dense)            (None, 64)                8256      \n",
      "                                                                 \n",
      " dense_29 (Dense)            (None, 32)                2080      \n",
      "                                                                 \n",
      " dense_30 (Dense)            (None, 16)                528       \n",
      "                                                                 \n",
      " dense_31 (Dense)            (None, 1)                 17        \n",
      "                                                                 \n",
      "=================================================================\n",
      "Total params: 13,313\n",
      "Trainable params: 13,313\n",
      "Non-trainable params: 0\n",
      "_________________________________________________________________\n"
     ]
    }
   ],
   "source": [
    "model.summary()"
   ]
  },
  {
   "cell_type": "markdown",
   "id": "3deffc91",
   "metadata": {},
   "source": [
    "### compile the model (preprocessing)"
   ]
  },
  {
   "cell_type": "code",
   "execution_count": 143,
   "id": "0f60c2bc",
   "metadata": {
    "tags": []
   },
   "outputs": [],
   "source": [
    "# model.compile(\n",
    "#     optimizer=Adam(learning_rate=0.01), \n",
    "#     loss='mean_absolute_error', \n",
    "#     metrics=['mean_absolute_error']\n",
    "# )\n",
    "\n",
    "model.compile(\n",
    "    optimizer=RMSprop(), \n",
    "    loss='mean_absolute_error', \n",
    "    metrics=['mean_absolute_error']\n",
    ")"
   ]
  },
  {
   "cell_type": "markdown",
   "id": "4cde93cc",
   "metadata": {},
   "source": [
    "### Train the model"
   ]
  },
  {
   "cell_type": "code",
   "execution_count": 144,
   "id": "40b4859f",
   "metadata": {
    "tags": []
   },
   "outputs": [
    {
     "name": "stdout",
     "output_type": "stream",
     "text": [
      "Epoch 1/100\n",
      "19/19 [==============================] - 1s 15ms/step - loss: 112.8240 - mean_absolute_error: 112.8240 - val_loss: 113.7077 - val_mean_absolute_error: 113.7077\n",
      "Epoch 2/100\n",
      "19/19 [==============================] - 0s 6ms/step - loss: 105.8566 - mean_absolute_error: 105.8566 - val_loss: 100.7727 - val_mean_absolute_error: 100.7727\n",
      "Epoch 3/100\n",
      "19/19 [==============================] - 0s 6ms/step - loss: 85.9250 - mean_absolute_error: 85.9250 - val_loss: 72.2524 - val_mean_absolute_error: 72.2524\n",
      "Epoch 4/100\n",
      "19/19 [==============================] - 0s 5ms/step - loss: 53.0238 - mean_absolute_error: 53.0238 - val_loss: 42.2625 - val_mean_absolute_error: 42.2625\n",
      "Epoch 5/100\n",
      "19/19 [==============================] - 0s 6ms/step - loss: 33.6470 - mean_absolute_error: 33.6470 - val_loss: 32.9785 - val_mean_absolute_error: 32.9785\n",
      "Epoch 6/100\n",
      "19/19 [==============================] - 0s 5ms/step - loss: 27.0880 - mean_absolute_error: 27.0880 - val_loss: 27.4909 - val_mean_absolute_error: 27.4909\n",
      "Epoch 7/100\n",
      "19/19 [==============================] - 0s 5ms/step - loss: 22.7372 - mean_absolute_error: 22.7372 - val_loss: 23.6083 - val_mean_absolute_error: 23.6083\n",
      "Epoch 8/100\n",
      "19/19 [==============================] - 0s 6ms/step - loss: 19.6270 - mean_absolute_error: 19.6270 - val_loss: 20.9484 - val_mean_absolute_error: 20.9484\n",
      "Epoch 9/100\n",
      "19/19 [==============================] - 0s 5ms/step - loss: 17.8039 - mean_absolute_error: 17.8039 - val_loss: 19.1592 - val_mean_absolute_error: 19.1592\n",
      "Epoch 10/100\n",
      "19/19 [==============================] - 0s 5ms/step - loss: 16.4308 - mean_absolute_error: 16.4308 - val_loss: 18.1047 - val_mean_absolute_error: 18.1047\n",
      "Epoch 11/100\n",
      "19/19 [==============================] - 0s 5ms/step - loss: 15.6467 - mean_absolute_error: 15.6467 - val_loss: 17.5288 - val_mean_absolute_error: 17.5288\n",
      "Epoch 12/100\n",
      "19/19 [==============================] - 0s 6ms/step - loss: 14.7843 - mean_absolute_error: 14.7843 - val_loss: 16.8182 - val_mean_absolute_error: 16.8182\n",
      "Epoch 13/100\n",
      "19/19 [==============================] - 0s 6ms/step - loss: 14.1893 - mean_absolute_error: 14.1893 - val_loss: 16.1179 - val_mean_absolute_error: 16.1179\n",
      "Epoch 14/100\n",
      "19/19 [==============================] - 0s 6ms/step - loss: 13.4594 - mean_absolute_error: 13.4594 - val_loss: 15.3659 - val_mean_absolute_error: 15.3659\n",
      "Epoch 15/100\n",
      "19/19 [==============================] - 0s 6ms/step - loss: 12.8450 - mean_absolute_error: 12.8450 - val_loss: 14.6474 - val_mean_absolute_error: 14.6474\n",
      "Epoch 16/100\n",
      "19/19 [==============================] - 0s 6ms/step - loss: 12.3259 - mean_absolute_error: 12.3259 - val_loss: 14.1457 - val_mean_absolute_error: 14.1457\n",
      "Epoch 17/100\n",
      "19/19 [==============================] - 0s 6ms/step - loss: 11.7381 - mean_absolute_error: 11.7381 - val_loss: 13.5462 - val_mean_absolute_error: 13.5462\n",
      "Epoch 18/100\n",
      "19/19 [==============================] - 0s 7ms/step - loss: 11.3914 - mean_absolute_error: 11.3914 - val_loss: 13.1752 - val_mean_absolute_error: 13.1752\n",
      "Epoch 19/100\n",
      "19/19 [==============================] - 0s 5ms/step - loss: 10.8238 - mean_absolute_error: 10.8238 - val_loss: 12.4739 - val_mean_absolute_error: 12.4739\n",
      "Epoch 20/100\n",
      "19/19 [==============================] - 0s 6ms/step - loss: 10.4845 - mean_absolute_error: 10.4845 - val_loss: 12.0687 - val_mean_absolute_error: 12.0687\n",
      "Epoch 21/100\n",
      "19/19 [==============================] - 0s 6ms/step - loss: 9.9957 - mean_absolute_error: 9.9957 - val_loss: 11.4745 - val_mean_absolute_error: 11.4745\n",
      "Epoch 22/100\n",
      "19/19 [==============================] - 0s 5ms/step - loss: 9.6476 - mean_absolute_error: 9.6476 - val_loss: 11.1881 - val_mean_absolute_error: 11.1881\n",
      "Epoch 23/100\n",
      "19/19 [==============================] - 0s 5ms/step - loss: 9.2321 - mean_absolute_error: 9.2321 - val_loss: 10.9363 - val_mean_absolute_error: 10.9363\n",
      "Epoch 24/100\n",
      "19/19 [==============================] - 0s 12ms/step - loss: 8.8958 - mean_absolute_error: 8.8958 - val_loss: 10.4003 - val_mean_absolute_error: 10.4003\n",
      "Epoch 25/100\n",
      "19/19 [==============================] - 0s 7ms/step - loss: 8.5673 - mean_absolute_error: 8.5673 - val_loss: 10.1893 - val_mean_absolute_error: 10.1893\n",
      "Epoch 26/100\n",
      "19/19 [==============================] - 0s 5ms/step - loss: 8.2619 - mean_absolute_error: 8.2619 - val_loss: 9.6227 - val_mean_absolute_error: 9.6227\n",
      "Epoch 27/100\n",
      "19/19 [==============================] - 0s 5ms/step - loss: 7.8335 - mean_absolute_error: 7.8335 - val_loss: 9.1758 - val_mean_absolute_error: 9.1758\n",
      "Epoch 28/100\n",
      "19/19 [==============================] - 0s 5ms/step - loss: 7.5972 - mean_absolute_error: 7.5972 - val_loss: 9.9372 - val_mean_absolute_error: 9.9372\n",
      "Epoch 29/100\n",
      "19/19 [==============================] - 0s 5ms/step - loss: 7.3058 - mean_absolute_error: 7.3058 - val_loss: 8.8285 - val_mean_absolute_error: 8.8285\n",
      "Epoch 30/100\n",
      "19/19 [==============================] - 0s 6ms/step - loss: 7.0526 - mean_absolute_error: 7.0526 - val_loss: 8.6693 - val_mean_absolute_error: 8.6693\n",
      "Epoch 31/100\n",
      "19/19 [==============================] - 0s 6ms/step - loss: 6.8219 - mean_absolute_error: 6.8219 - val_loss: 8.3009 - val_mean_absolute_error: 8.3009\n",
      "Epoch 32/100\n",
      "19/19 [==============================] - 0s 6ms/step - loss: 6.6372 - mean_absolute_error: 6.6372 - val_loss: 7.7311 - val_mean_absolute_error: 7.7311\n",
      "Epoch 33/100\n",
      "19/19 [==============================] - 0s 6ms/step - loss: 6.3145 - mean_absolute_error: 6.3145 - val_loss: 7.8991 - val_mean_absolute_error: 7.8991\n",
      "Epoch 34/100\n",
      "19/19 [==============================] - 0s 6ms/step - loss: 6.2110 - mean_absolute_error: 6.2110 - val_loss: 7.0351 - val_mean_absolute_error: 7.0351\n",
      "Epoch 35/100\n",
      "19/19 [==============================] - 0s 7ms/step - loss: 6.1003 - mean_absolute_error: 6.1003 - val_loss: 7.1115 - val_mean_absolute_error: 7.1115\n",
      "Epoch 36/100\n",
      "19/19 [==============================] - 0s 6ms/step - loss: 5.8261 - mean_absolute_error: 5.8261 - val_loss: 6.6033 - val_mean_absolute_error: 6.6033\n",
      "Epoch 37/100\n",
      "19/19 [==============================] - 0s 5ms/step - loss: 5.6887 - mean_absolute_error: 5.6887 - val_loss: 6.5410 - val_mean_absolute_error: 6.5410\n",
      "Epoch 38/100\n",
      "19/19 [==============================] - 0s 6ms/step - loss: 5.4842 - mean_absolute_error: 5.4842 - val_loss: 6.3066 - val_mean_absolute_error: 6.3066\n",
      "Epoch 39/100\n",
      "19/19 [==============================] - 0s 5ms/step - loss: 5.3513 - mean_absolute_error: 5.3513 - val_loss: 6.0692 - val_mean_absolute_error: 6.0692\n",
      "Epoch 40/100\n",
      "19/19 [==============================] - 0s 5ms/step - loss: 5.2030 - mean_absolute_error: 5.2030 - val_loss: 6.4871 - val_mean_absolute_error: 6.4871\n",
      "Epoch 41/100\n",
      "19/19 [==============================] - 0s 6ms/step - loss: 4.9322 - mean_absolute_error: 4.9322 - val_loss: 5.6375 - val_mean_absolute_error: 5.6375\n",
      "Epoch 42/100\n",
      "19/19 [==============================] - 0s 6ms/step - loss: 4.9740 - mean_absolute_error: 4.9740 - val_loss: 5.4298 - val_mean_absolute_error: 5.4298\n",
      "Epoch 43/100\n",
      "19/19 [==============================] - 0s 5ms/step - loss: 4.7513 - mean_absolute_error: 4.7513 - val_loss: 5.3835 - val_mean_absolute_error: 5.3835\n",
      "Epoch 44/100\n",
      "19/19 [==============================] - 0s 5ms/step - loss: 4.7083 - mean_absolute_error: 4.7083 - val_loss: 5.7090 - val_mean_absolute_error: 5.7090\n",
      "Epoch 45/100\n",
      "19/19 [==============================] - 0s 5ms/step - loss: 4.6008 - mean_absolute_error: 4.6008 - val_loss: 5.5828 - val_mean_absolute_error: 5.5828\n",
      "Epoch 46/100\n",
      "19/19 [==============================] - 0s 7ms/step - loss: 4.4796 - mean_absolute_error: 4.4796 - val_loss: 5.6358 - val_mean_absolute_error: 5.6358\n",
      "Epoch 47/100\n",
      "19/19 [==============================] - 0s 8ms/step - loss: 4.2746 - mean_absolute_error: 4.2746 - val_loss: 4.7230 - val_mean_absolute_error: 4.7230\n",
      "Epoch 48/100\n",
      "19/19 [==============================] - 0s 5ms/step - loss: 4.1601 - mean_absolute_error: 4.1601 - val_loss: 4.7482 - val_mean_absolute_error: 4.7482\n",
      "Epoch 49/100\n",
      "19/19 [==============================] - 0s 6ms/step - loss: 4.1249 - mean_absolute_error: 4.1249 - val_loss: 4.5320 - val_mean_absolute_error: 4.5320\n",
      "Epoch 50/100\n",
      "19/19 [==============================] - 0s 6ms/step - loss: 4.1526 - mean_absolute_error: 4.1526 - val_loss: 4.6187 - val_mean_absolute_error: 4.6187\n",
      "Epoch 51/100\n",
      "19/19 [==============================] - 0s 5ms/step - loss: 3.9173 - mean_absolute_error: 3.9173 - val_loss: 4.6388 - val_mean_absolute_error: 4.6388\n",
      "Epoch 52/100\n",
      "19/19 [==============================] - 0s 6ms/step - loss: 3.8417 - mean_absolute_error: 3.8417 - val_loss: 4.4680 - val_mean_absolute_error: 4.4680\n",
      "Epoch 53/100\n",
      "19/19 [==============================] - 0s 5ms/step - loss: 3.8337 - mean_absolute_error: 3.8337 - val_loss: 4.5269 - val_mean_absolute_error: 4.5269\n",
      "Epoch 54/100\n",
      "19/19 [==============================] - 0s 6ms/step - loss: 3.7014 - mean_absolute_error: 3.7014 - val_loss: 4.6180 - val_mean_absolute_error: 4.6180\n",
      "Epoch 55/100\n",
      "19/19 [==============================] - 0s 6ms/step - loss: 3.7841 - mean_absolute_error: 3.7841 - val_loss: 4.4021 - val_mean_absolute_error: 4.4021\n",
      "Epoch 56/100\n",
      "19/19 [==============================] - 0s 6ms/step - loss: 3.6330 - mean_absolute_error: 3.6330 - val_loss: 6.0149 - val_mean_absolute_error: 6.0149\n",
      "Epoch 57/100\n",
      "19/19 [==============================] - 0s 5ms/step - loss: 3.7505 - mean_absolute_error: 3.7505 - val_loss: 4.0429 - val_mean_absolute_error: 4.0429\n",
      "Epoch 58/100\n",
      "19/19 [==============================] - 0s 5ms/step - loss: 3.6227 - mean_absolute_error: 3.6227 - val_loss: 4.6963 - val_mean_absolute_error: 4.6963\n",
      "Epoch 59/100\n",
      "19/19 [==============================] - 0s 5ms/step - loss: 3.4478 - mean_absolute_error: 3.4478 - val_loss: 4.2790 - val_mean_absolute_error: 4.2790\n",
      "Epoch 60/100\n",
      "19/19 [==============================] - 0s 6ms/step - loss: 3.6113 - mean_absolute_error: 3.6113 - val_loss: 4.7291 - val_mean_absolute_error: 4.7291\n",
      "Epoch 61/100\n",
      "19/19 [==============================] - 0s 6ms/step - loss: 3.5091 - mean_absolute_error: 3.5091 - val_loss: 3.8121 - val_mean_absolute_error: 3.8121\n",
      "Epoch 62/100\n",
      "19/19 [==============================] - 0s 6ms/step - loss: 3.5812 - mean_absolute_error: 3.5812 - val_loss: 3.7421 - val_mean_absolute_error: 3.7421\n",
      "Epoch 63/100\n",
      "19/19 [==============================] - 0s 6ms/step - loss: 3.4270 - mean_absolute_error: 3.4270 - val_loss: 3.8594 - val_mean_absolute_error: 3.8594\n",
      "Epoch 64/100\n",
      "19/19 [==============================] - 0s 5ms/step - loss: 3.3639 - mean_absolute_error: 3.3639 - val_loss: 3.6371 - val_mean_absolute_error: 3.6371\n",
      "Epoch 65/100\n",
      "19/19 [==============================] - 0s 5ms/step - loss: 3.4330 - mean_absolute_error: 3.4330 - val_loss: 3.9611 - val_mean_absolute_error: 3.9611\n",
      "Epoch 66/100\n",
      "19/19 [==============================] - 0s 6ms/step - loss: 3.2622 - mean_absolute_error: 3.2622 - val_loss: 3.4991 - val_mean_absolute_error: 3.4991\n",
      "Epoch 67/100\n",
      "19/19 [==============================] - 0s 7ms/step - loss: 3.4012 - mean_absolute_error: 3.4012 - val_loss: 4.1509 - val_mean_absolute_error: 4.1509\n",
      "Epoch 68/100\n",
      "19/19 [==============================] - 0s 6ms/step - loss: 3.3239 - mean_absolute_error: 3.3239 - val_loss: 4.1121 - val_mean_absolute_error: 4.1121\n",
      "Epoch 69/100\n",
      "19/19 [==============================] - 0s 5ms/step - loss: 3.2294 - mean_absolute_error: 3.2294 - val_loss: 4.7259 - val_mean_absolute_error: 4.7259\n",
      "Epoch 70/100\n",
      "19/19 [==============================] - 0s 6ms/step - loss: 3.2681 - mean_absolute_error: 3.2681 - val_loss: 3.9759 - val_mean_absolute_error: 3.9759\n",
      "Epoch 71/100\n",
      "19/19 [==============================] - 0s 5ms/step - loss: 3.3539 - mean_absolute_error: 3.3539 - val_loss: 3.4118 - val_mean_absolute_error: 3.4118\n",
      "Epoch 72/100\n",
      "19/19 [==============================] - 0s 6ms/step - loss: 3.0698 - mean_absolute_error: 3.0698 - val_loss: 3.7787 - val_mean_absolute_error: 3.7787\n",
      "Epoch 73/100\n",
      "19/19 [==============================] - 0s 6ms/step - loss: 3.1011 - mean_absolute_error: 3.1011 - val_loss: 3.9590 - val_mean_absolute_error: 3.9590\n",
      "Epoch 74/100\n",
      "19/19 [==============================] - 0s 6ms/step - loss: 3.1667 - mean_absolute_error: 3.1667 - val_loss: 3.9382 - val_mean_absolute_error: 3.9382\n",
      "Epoch 75/100\n",
      "19/19 [==============================] - 0s 5ms/step - loss: 3.1881 - mean_absolute_error: 3.1881 - val_loss: 3.8027 - val_mean_absolute_error: 3.8027\n",
      "Epoch 76/100\n",
      "19/19 [==============================] - 0s 5ms/step - loss: 3.1823 - mean_absolute_error: 3.1823 - val_loss: 3.9028 - val_mean_absolute_error: 3.9028\n",
      "Epoch 77/100\n",
      "19/19 [==============================] - 0s 6ms/step - loss: 3.1876 - mean_absolute_error: 3.1876 - val_loss: 3.8292 - val_mean_absolute_error: 3.8292\n",
      "Epoch 78/100\n",
      "19/19 [==============================] - 0s 5ms/step - loss: 3.0804 - mean_absolute_error: 3.0804 - val_loss: 3.3533 - val_mean_absolute_error: 3.3533\n",
      "Epoch 79/100\n",
      "19/19 [==============================] - 0s 5ms/step - loss: 3.1618 - mean_absolute_error: 3.1618 - val_loss: 3.6608 - val_mean_absolute_error: 3.6608\n",
      "Epoch 80/100\n",
      "19/19 [==============================] - 0s 6ms/step - loss: 3.0410 - mean_absolute_error: 3.0410 - val_loss: 4.2594 - val_mean_absolute_error: 4.2594\n",
      "Epoch 81/100\n",
      "19/19 [==============================] - 0s 6ms/step - loss: 3.1103 - mean_absolute_error: 3.1103 - val_loss: 3.1733 - val_mean_absolute_error: 3.1733\n",
      "Epoch 82/100\n",
      "19/19 [==============================] - 0s 6ms/step - loss: 3.0019 - mean_absolute_error: 3.0019 - val_loss: 3.8676 - val_mean_absolute_error: 3.8676\n",
      "Epoch 83/100\n",
      "19/19 [==============================] - 0s 6ms/step - loss: 3.0727 - mean_absolute_error: 3.0727 - val_loss: 3.6648 - val_mean_absolute_error: 3.6648\n",
      "Epoch 84/100\n",
      "19/19 [==============================] - 0s 5ms/step - loss: 3.0032 - mean_absolute_error: 3.0032 - val_loss: 3.6430 - val_mean_absolute_error: 3.6430\n",
      "Epoch 85/100\n",
      "19/19 [==============================] - 0s 5ms/step - loss: 2.9322 - mean_absolute_error: 2.9322 - val_loss: 3.3220 - val_mean_absolute_error: 3.3220\n",
      "Epoch 86/100\n",
      "19/19 [==============================] - 0s 6ms/step - loss: 3.1985 - mean_absolute_error: 3.1985 - val_loss: 3.3096 - val_mean_absolute_error: 3.3096\n",
      "Epoch 87/100\n",
      "19/19 [==============================] - 0s 5ms/step - loss: 2.9862 - mean_absolute_error: 2.9862 - val_loss: 3.8019 - val_mean_absolute_error: 3.8019\n",
      "Epoch 88/100\n",
      "19/19 [==============================] - 0s 5ms/step - loss: 3.0031 - mean_absolute_error: 3.0031 - val_loss: 3.5357 - val_mean_absolute_error: 3.5357\n",
      "Epoch 89/100\n",
      "19/19 [==============================] - 0s 5ms/step - loss: 2.9397 - mean_absolute_error: 2.9397 - val_loss: 3.5763 - val_mean_absolute_error: 3.5763\n",
      "Epoch 90/100\n",
      "19/19 [==============================] - 0s 5ms/step - loss: 3.0630 - mean_absolute_error: 3.0630 - val_loss: 3.1210 - val_mean_absolute_error: 3.1210\n",
      "Epoch 91/100\n",
      "19/19 [==============================] - 0s 7ms/step - loss: 2.9470 - mean_absolute_error: 2.9470 - val_loss: 4.0335 - val_mean_absolute_error: 4.0335\n",
      "Epoch 92/100\n",
      "19/19 [==============================] - 0s 5ms/step - loss: 3.0564 - mean_absolute_error: 3.0564 - val_loss: 3.1416 - val_mean_absolute_error: 3.1416\n",
      "Epoch 93/100\n",
      "19/19 [==============================] - 0s 5ms/step - loss: 2.9522 - mean_absolute_error: 2.9522 - val_loss: 3.6863 - val_mean_absolute_error: 3.6863\n",
      "Epoch 94/100\n",
      "19/19 [==============================] - 0s 5ms/step - loss: 3.0271 - mean_absolute_error: 3.0271 - val_loss: 3.4781 - val_mean_absolute_error: 3.4781\n",
      "Epoch 95/100\n",
      "19/19 [==============================] - 0s 6ms/step - loss: 2.9108 - mean_absolute_error: 2.9108 - val_loss: 3.6005 - val_mean_absolute_error: 3.6005\n",
      "Epoch 96/100\n",
      "19/19 [==============================] - 0s 5ms/step - loss: 2.8961 - mean_absolute_error: 2.8961 - val_loss: 3.6831 - val_mean_absolute_error: 3.6831\n",
      "Epoch 97/100\n",
      "19/19 [==============================] - 0s 5ms/step - loss: 2.9225 - mean_absolute_error: 2.9225 - val_loss: 2.9679 - val_mean_absolute_error: 2.9679\n",
      "Epoch 98/100\n",
      "19/19 [==============================] - 0s 6ms/step - loss: 2.8802 - mean_absolute_error: 2.8802 - val_loss: 3.8082 - val_mean_absolute_error: 3.8082\n",
      "Epoch 99/100\n",
      "19/19 [==============================] - 0s 6ms/step - loss: 2.8340 - mean_absolute_error: 2.8340 - val_loss: 3.9280 - val_mean_absolute_error: 3.9280\n",
      "Epoch 100/100\n",
      "19/19 [==============================] - 0s 6ms/step - loss: 2.9635 - mean_absolute_error: 2.9635 - val_loss: 4.2206 - val_mean_absolute_error: 4.2206\n"
     ]
    }
   ],
   "source": [
    "history = model.fit(x=scaled_train_samples, y=train_labels, validation_split=0.1, batch_size=128, epochs=100, shuffle=True, verbose=1)"
   ]
  },
  {
   "cell_type": "code",
   "execution_count": 145,
   "id": "0b88f9bd-329c-4ba0-8091-979cd3d1cacc",
   "metadata": {
    "tags": []
   },
   "outputs": [
    {
     "data": {
      "image/png": "[encoded data removed]",
      "text/plain": [
       "<Figure size 640x480 with 1 Axes>"
      ]
     },
     "metadata": {},
     "output_type": "display_data"
    }
   ],
   "source": [
    "plt.plot(history.history['loss'])\n",
    "plt.title('the loss of training model')\n",
    "plt.xlabel('epochs')\n",
    "plt.ylabel('loss')\n",
    "plt.show()"
   ]
  },
  {
   "cell_type": "code",
   "execution_count": 146,
   "id": "34ed0444-364c-463c-9bae-43f1fd6e7f89",
   "metadata": {
    "tags": []
   },
   "outputs": [
    {
     "data": {
      "image/png": "[encoded data removed]",
      "text/plain": [
       "<Figure size 640x480 with 1 Axes>"
      ]
     },
     "metadata": {},
     "output_type": "display_data"
    }
   ],
   "source": [
    "history_dict = history.history\n",
    "loss_values = history_dict[\"loss\"]\n",
    "val_loss_values = history_dict[\"val_loss\"]\n",
    "epochs = range(1, len(loss_values) + 1)\n",
    "plt.plot(epochs, loss_values, \"bo\", label=\"Training loss\")\n",
    "plt.plot(epochs, val_loss_values, \"b\", label=\"Validation loss\")\n",
    "plt.title(\"Training and validation loss\")\n",
    "plt.xlabel(\"Epochs\")\n",
    "plt.ylabel(\"Loss\")\n",
    "plt.legend()\n",
    "plt.show()"
   ]
  },
  {
   "cell_type": "markdown",
   "id": "357377ec-e328-42f6-a5c6-bbe6bef0e691",
   "metadata": {},
   "source": [
    "### predict"
   ]
  },
  {
   "cell_type": "code",
   "execution_count": 147,
   "id": "22a6f10a-0978-4337-bca2-a51944446095",
   "metadata": {
    "tags": []
   },
   "outputs": [
    {
     "name": "stdout",
     "output_type": "stream",
     "text": [
      "[[4 '20' '20' ... 7 0.0 5.67e-05]\n",
      " [4 '22' '4' ... 5 0.0 0.0]\n",
      " [3 '27' '14' ... 8 0.0 0.0]\n",
      " ...\n",
      " [3 '27' '16' ... 6 0.0 1.83e-05]\n",
      " [4 '18' '14' ... 7 0.0 0.0]\n",
      " [6 '20' '28' ... 5 0.0 0.0]]\n"
     ]
    }
   ],
   "source": [
    "# fetch labels\n",
    "test_labels = test_dataset[:,target_col].astype('float32')\n",
    "\n",
    "# delete the labels from the samples\n",
    "test_samples = np.delete(test_dataset, target_col, axis=1)\n",
    "test_samples = np.delete(test_samples, 0, axis=1)\n",
    "\n",
    "print(test_samples)\n",
    "\n",
    "# normalize\n",
    "scaled_test_samples = sc.fit_transform(test_samples).astype('float32')"
   ]
  },
  {
   "cell_type": "code",
   "execution_count": 148,
   "id": "82d57102-8cdb-4a0c-8748-d044f05a0b1c",
   "metadata": {
    "tags": []
   },
   "outputs": [],
   "source": [
    "predictions = model.predict(x=scaled_test_samples, batch_size=128, verbose=0)\n",
    "#print(predictions)"
   ]
  },
  {
   "cell_type": "markdown",
   "id": "42d2793a-957a-4186-a0cc-2b12ec6246f7",
   "metadata": {
    "tags": []
   },
   "source": [
    "## conclusions"
   ]
  },
  {
   "cell_type": "code",
   "execution_count": 149,
   "id": "4a281fe3-2582-48df-afdc-c96bcd9be014",
   "metadata": {
    "tags": []
   },
   "outputs": [],
   "source": [
    "def histogram(y_pred, y_true, n_rows = 1, n_cols = 1, title = 'barstacked'):\n",
    "\n",
    "    species = ('1', '2')\n",
    "    fig, axs = plt.subplots(nrows = n_rows, ncols = n_cols)\n",
    "\n",
    "    axs.hist(y_pred, density = True, histtype = 'barstacked', rwidth=0.8, label='y_pred')\n",
    "    axs.hist(y_true, density = True, histtype = 'barstacked', rwidth=0.8, label='y_true')\n",
    "    axs.set_title(title)\n",
    "    \n",
    "    axs.set_ylabel('action-per-minute')\n",
    "    axs.legend(loc='upper left', ncols=2)\n",
    "\n",
    "    fig.tight_layout()\n",
    "    plt.show()"
   ]
  },
  {
   "cell_type": "code",
   "execution_count": 151,
   "id": "6434bdc8-2cfb-4af5-80b9-34be5c2c99ab",
   "metadata": {
    "tags": []
   },
   "outputs": [
    {
     "data": {
      "image/png": "[encoded data removed]",
      "text/plain": [
       "<Figure size 640x480 with 1 Axes>"
      ]
     },
     "metadata": {},
     "output_type": "display_data"
    }
   ],
   "source": [
    "histogram(y_pred = predictions, y_true = test_labels)"
   ]
  },
  {
   "cell_type": "code",
   "execution_count": 152,
   "id": "8c81b412-e56c-4f37-a0d1-e6e6aeac465e",
   "metadata": {
    "tags": []
   },
   "outputs": [],
   "source": [
    "def group_bar_chart(species, y_pred, y_true):\n",
    "    \n",
    "    penguin_means = {\n",
    "        'y_pred': np.squeeze(y_pred),\n",
    "        'y_true': np.squeeze(y_true),\n",
    "    }\n",
    "\n",
    "    x = np.arange(len(species))  # the label locations\n",
    "    width = 0.2  # the width of the bars\n",
    "    multiplier = 0\n",
    "\n",
    "    fig, ax = plt.subplots(1, 1)\n",
    "\n",
    "    for attribute, measurement in penguin_means.items():\n",
    "        offset = width * multiplier\n",
    "        rects = ax.bar(x + offset, measurement, width, label=attribute)\n",
    "        ax.bar_label(rects, padding=3)\n",
    "        multiplier += 1\n",
    "\n",
    "    # Add some text for labels, title, and custom x-axis tick labels, etc.\n",
    "    ax.set_ylabel('Length (mm)')\n",
    "    ax.set_title('Penguin attributes by species')\n",
    "    ax.set_xticks(x + width / 2)\n",
    "    ax.set_xticklabels(species)\n",
    "    ax.legend(loc='upper left', ncol=2)\n",
    "\n",
    "    plt.show()"
   ]
  },
  {
   "cell_type": "code",
   "execution_count": 153,
   "id": "b28ab5a4-c190-40de-93d3-8e456a71620b",
   "metadata": {
    "tags": []
   },
   "outputs": [
    {
     "data": {
      "image/png": "[encoded data removed]",
      "text/plain": [
       "<Figure size 640x480 with 1 Axes>"
      ]
     },
     "metadata": {},
     "output_type": "display_data"
    }
   ],
   "source": [
    "# set offset and limitation\n",
    "offset = 0\n",
    "limit = 10\n",
    "\n",
    "limit = min(offset + limit, len(test_dataset))\n",
    "\n",
    "# rows\n",
    "tdataset = np.array([])\n",
    "tdataset = np.append(arr = tdataset, values = test_dataset[offset : (limit + offset),0])\n",
    "\n",
    "# predicted datas\n",
    "predict = np.array([])\n",
    "predict = np.append(arr = predict, values = predictions[offset : (limit + offset),0])\n",
    "    \n",
    "# true datas\n",
    "targets = np.array([])\n",
    "targets = np.append(arr = targets, values = test_labels[offset : (limit + offset)])\n",
    "\n",
    "# print chart\n",
    "group_bar_chart(species = tdataset, y_pred = predict, y_true = targets)"
   ]
  },
  {
   "cell_type": "code",
   "execution_count": 154,
   "id": "c6801e80-af66-4488-a577-fb58e31d9620",
   "metadata": {
    "tags": []
   },
   "outputs": [],
   "source": [
    "import itertools\n",
    "\n",
    "# define a function to display the confusion metrics with sklearn\n",
    "def plot_confusion_matrix(cm, \n",
    "                          classes, \n",
    "                          normalize=False, \n",
    "                          title='Confusion matrix', \n",
    "                          cmap=plt.cm.Blues):\n",
    "    \"\"\"\n",
    "    This function prints and plots the confusion matrix.\n",
    "    Normalization can be applied by setting 'normalize=True' .\n",
    "    \"\"\"\n",
    "    plt.imshow(cm, interpolation='nearest', cmap=cmap)\n",
    "    plt.title(title)\n",
    "    plt.colorbar()\n",
    "    tick_marks = np.arange(len(classes))\n",
    "    plt.xticks(tick_marks, classes, rotation=45)\n",
    "    plt.yticks(tick_marks, classes)\n",
    "    \n",
    "    if normalize:\n",
    "        cm = cm.astype('float') / cm.sum(axis=1)[:, np.newaxis]\n",
    "        print(\"Normalized confusion matrix\")\n",
    "    else:\n",
    "        print(\"Confusion matrix, without normalization\")\n",
    "    \n",
    "    print(cm)\n",
    "    \n",
    "    thresh = cm.max() / 2.\n",
    "    for i, j in itertools.product(range(cm.shape[0]), range(cm.shape[1])):\n",
    "        plt.text(j, i, cm[i, j],\n",
    "                horizontalalignment='center',\n",
    "                color='white' if cm[i, j] > thresh else \"black\")\n",
    "        \n",
    "    plt.tight_layout()\n",
    "    plt.ylabel('True label')\n",
    "    plt.xlabel('Predicated label')"
   ]
  },
  {
   "cell_type": "markdown",
   "id": "f49711c1-21bb-4257-a13a-3c51b6c8cf5b",
   "metadata": {},
   "source": [
    "### Confusion matrics"
   ]
  },
  {
   "cell_type": "code",
   "execution_count": 72,
   "id": "f833a779-f6e5-4786-9f21-72de7b69dab5",
   "metadata": {
    "tags": []
   },
   "outputs": [],
   "source": [
    "# from sklearn.metrics import confusion_matrix"
   ]
  },
  {
   "cell_type": "code",
   "execution_count": 93,
   "id": "f6076bac-f0f0-485c-9f96-901c7b4fd94e",
   "metadata": {
    "tags": []
   },
   "outputs": [],
   "source": [
    "# def convert_to_classification(predictions, test_labels, threshold):\n",
    "#     # Create an empty array for the classification labels\n",
    "#     labels = np.zeros_like(predictions)\n",
    "    \n",
    "#     # Assign labels based on the threshold\n",
    "#     for i in range(len(predictions)):\n",
    "#         if (predictions[i] - test_labels[i] <= threshold):\n",
    "#             labels[i] = 1\n",
    "    \n",
    "#     return labels"
   ]
  },
  {
   "cell_type": "code",
   "execution_count": 155,
   "id": "a7ecebb4-b709-4a67-a431-8025c6bd7caf",
   "metadata": {},
   "outputs": [],
   "source": [
    "# # create true labels\n",
    "# regression_labels = np.array([])\n",
    "# for i in range(len(test_labels)):\n",
    "#     regression_labels = np.append(regression_labels, [1])\n",
    "\n",
    "# # create classification_labels\n",
    "# threshold = 2\n",
    "# classification_labels = convert_to_classification(predictions, test_labels, threshold)"
   ]
  },
  {
   "cell_type": "code",
   "execution_count": 156,
   "id": "6a497914-d2e0-4d64-b145-76353fb70f03",
   "metadata": {
    "tags": []
   },
   "outputs": [],
   "source": [
    "# # build the confusion metrics\n",
    "# cm = confusion_matrix(y_true=regression_labels, y_pred=classification_labels)"
   ]
  },
  {
   "cell_type": "code",
   "execution_count": 157,
   "id": "01b2c4b9-1832-4117-bdee-9d2744b8bd89",
   "metadata": {
    "tags": []
   },
   "outputs": [],
   "source": [
    "# plot_confusion_matrix(cm=cm, classes=[0,1], title='Confusion Matrix')"
   ]
  },
  {
   "cell_type": "markdown",
   "id": "c59e30e5-3b7a-4192-b63d-09806af5f6b1",
   "metadata": {},
   "source": [
    "### F1 score matrics"
   ]
  },
  {
   "cell_type": "code",
   "execution_count": 158,
   "id": "2adaa451-ba99-4e05-bc15-75bd2d535562",
   "metadata": {
    "tags": []
   },
   "outputs": [],
   "source": [
    "# def calculate_f1_score(true_positives = 0, false_positives = 0, false_negatives = 0):\n",
    "#     precision = true_positives / (true_positives + false_positives)\n",
    "#     recall = true_positives / (true_positives + false_negatives)\n",
    "    \n",
    "#     f1_score = 2 * (precision * recall) / (precision + recall)\n",
    "#     return f1_score"
   ]
  },
  {
   "cell_type": "code",
   "execution_count": 159,
   "id": "75cc35b6-c037-4174-b53c-1575b9a1f62c",
   "metadata": {
    "tags": []
   },
   "outputs": [
    {
     "data": {
      "text/plain": [
       "(2670, 18)"
      ]
     },
     "execution_count": 159,
     "metadata": {},
     "output_type": "execute_result"
    }
   ],
   "source": [
    "train_samples.shape"
   ]
  },
  {
   "cell_type": "markdown",
   "id": "4b0558dc-b5ad-4a49-a4b6-16f07b423854",
   "metadata": {},
   "source": [
    "### Build the model2"
   ]
  },
  {
   "cell_type": "code",
   "execution_count": 160,
   "id": "265d29b4-b396-40e5-b720-d22aa000e438",
   "metadata": {
    "tags": []
   },
   "outputs": [],
   "source": [
    "model2 = Sequential([\n",
    "    Dense(units=16, input_shape=(train_samples.shape[1],), activation='relu'),\n",
    "    Dense(units=32, activation='relu'),\n",
    "    Dense(units=64, activation='relu'),\n",
    "    Dense(units=128, activation='relu'),\n",
    "    Dense(units=64, activation='relu'),\n",
    "    Dense(units=32, activation='relu'),\n",
    "    Dense(units=1, activation='relu')\n",
    "])"
   ]
  },
  {
   "cell_type": "code",
   "execution_count": null,
   "id": "f45ad5ba-27a8-4d9e-935c-5895d851abb9",
   "metadata": {},
   "outputs": [],
   "source": []
  },
  {
   "cell_type": "markdown",
   "id": "a9df2f0f-bca5-41cc-bf9a-f508220a24ed",
   "metadata": {},
   "source": [
    "### compile the model"
   ]
  },
  {
   "cell_type": "code",
   "execution_count": 161,
   "id": "3c294ca6-6339-45e5-906f-53040d95fd05",
   "metadata": {
    "tags": []
   },
   "outputs": [],
   "source": [
    "model2.compile(\n",
    "    optimizer=Adam(learning_rate=0.01), \n",
    "    loss='mean_absolute_error', \n",
    "    metrics=['mean_absolute_error']\n",
    ")"
   ]
  },
  {
   "cell_type": "markdown",
   "id": "3719323e-eac9-4e2b-ba72-122816b25912",
   "metadata": {},
   "source": [
    "### Train the model"
   ]
  },
  {
   "cell_type": "code",
   "execution_count": 162,
   "id": "14505a08-9850-442c-a952-4d051fc63189",
   "metadata": {
    "tags": []
   },
   "outputs": [
    {
     "name": "stdout",
     "output_type": "stream",
     "text": [
      "Epoch 1/150\n",
      "34/34 [==============================] - 2s 9ms/step - loss: 69.1852 - mean_absolute_error: 69.1852 - val_loss: 27.3013 - val_mean_absolute_error: 27.3013\n",
      "Epoch 2/150\n",
      "34/34 [==============================] - 0s 5ms/step - loss: 20.2414 - mean_absolute_error: 20.2414 - val_loss: 15.9723 - val_mean_absolute_error: 15.9723\n",
      "Epoch 3/150\n",
      "34/34 [==============================] - 0s 4ms/step - loss: 12.8341 - mean_absolute_error: 12.8341 - val_loss: 10.9835 - val_mean_absolute_error: 10.9835\n",
      "Epoch 4/150\n",
      "34/34 [==============================] - 0s 4ms/step - loss: 9.5655 - mean_absolute_error: 9.5655 - val_loss: 9.8653 - val_mean_absolute_error: 9.8653\n",
      "Epoch 5/150\n",
      "34/34 [==============================] - 0s 4ms/step - loss: 7.7395 - mean_absolute_error: 7.7395 - val_loss: 7.0956 - val_mean_absolute_error: 7.0956\n",
      "Epoch 6/150\n",
      "34/34 [==============================] - 0s 4ms/step - loss: 6.1455 - mean_absolute_error: 6.1455 - val_loss: 7.6851 - val_mean_absolute_error: 7.6851\n",
      "Epoch 7/150\n",
      "34/34 [==============================] - 0s 4ms/step - loss: 5.4040 - mean_absolute_error: 5.4040 - val_loss: 5.4833 - val_mean_absolute_error: 5.4833\n",
      "Epoch 8/150\n",
      "34/34 [==============================] - 0s 4ms/step - loss: 5.1862 - mean_absolute_error: 5.1862 - val_loss: 5.0109 - val_mean_absolute_error: 5.0109\n",
      "Epoch 9/150\n",
      "34/34 [==============================] - 0s 4ms/step - loss: 5.0599 - mean_absolute_error: 5.0599 - val_loss: 5.7874 - val_mean_absolute_error: 5.7874\n",
      "Epoch 10/150\n",
      "34/34 [==============================] - 0s 4ms/step - loss: 4.4198 - mean_absolute_error: 4.4198 - val_loss: 4.1935 - val_mean_absolute_error: 4.1935\n",
      "Epoch 11/150\n",
      "34/34 [==============================] - 0s 5ms/step - loss: 4.9084 - mean_absolute_error: 4.9084 - val_loss: 4.6838 - val_mean_absolute_error: 4.6838\n",
      "Epoch 12/150\n",
      "34/34 [==============================] - 0s 5ms/step - loss: 5.2667 - mean_absolute_error: 5.2667 - val_loss: 4.2645 - val_mean_absolute_error: 4.2645\n",
      "Epoch 13/150\n",
      "34/34 [==============================] - 0s 5ms/step - loss: 4.2394 - mean_absolute_error: 4.2394 - val_loss: 3.1786 - val_mean_absolute_error: 3.1786\n",
      "Epoch 14/150\n",
      "34/34 [==============================] - 0s 4ms/step - loss: 3.7842 - mean_absolute_error: 3.7842 - val_loss: 6.8391 - val_mean_absolute_error: 6.8391\n",
      "Epoch 15/150\n",
      "34/34 [==============================] - 0s 6ms/step - loss: 4.7359 - mean_absolute_error: 4.7359 - val_loss: 3.9232 - val_mean_absolute_error: 3.9232\n",
      "Epoch 16/150\n",
      "34/34 [==============================] - 0s 5ms/step - loss: 3.6692 - mean_absolute_error: 3.6692 - val_loss: 3.3013 - val_mean_absolute_error: 3.3013\n",
      "Epoch 17/150\n",
      "34/34 [==============================] - 0s 5ms/step - loss: 3.9265 - mean_absolute_error: 3.9265 - val_loss: 3.6921 - val_mean_absolute_error: 3.6921\n",
      "Epoch 18/150\n",
      "34/34 [==============================] - 0s 4ms/step - loss: 3.7070 - mean_absolute_error: 3.7070 - val_loss: 3.7008 - val_mean_absolute_error: 3.7008\n",
      "Epoch 19/150\n",
      "34/34 [==============================] - 0s 4ms/step - loss: 4.5325 - mean_absolute_error: 4.5325 - val_loss: 5.4313 - val_mean_absolute_error: 5.4313\n",
      "Epoch 20/150\n",
      "34/34 [==============================] - 0s 4ms/step - loss: 4.2066 - mean_absolute_error: 4.2066 - val_loss: 3.6577 - val_mean_absolute_error: 3.6577\n",
      "Epoch 21/150\n",
      "34/34 [==============================] - 0s 5ms/step - loss: 4.0114 - mean_absolute_error: 4.0114 - val_loss: 3.8727 - val_mean_absolute_error: 3.8727\n",
      "Epoch 22/150\n",
      "34/34 [==============================] - 0s 4ms/step - loss: 3.6155 - mean_absolute_error: 3.6155 - val_loss: 3.1602 - val_mean_absolute_error: 3.1602\n",
      "Epoch 23/150\n",
      "34/34 [==============================] - 0s 4ms/step - loss: 3.5771 - mean_absolute_error: 3.5771 - val_loss: 3.3053 - val_mean_absolute_error: 3.3053\n",
      "Epoch 24/150\n",
      "34/34 [==============================] - 0s 4ms/step - loss: 3.7527 - mean_absolute_error: 3.7527 - val_loss: 4.1245 - val_mean_absolute_error: 4.1245\n",
      "Epoch 25/150\n",
      "34/34 [==============================] - 0s 4ms/step - loss: 3.9538 - mean_absolute_error: 3.9538 - val_loss: 3.1246 - val_mean_absolute_error: 3.1246\n",
      "Epoch 26/150\n",
      "34/34 [==============================] - 0s 4ms/step - loss: 3.2072 - mean_absolute_error: 3.2072 - val_loss: 2.9083 - val_mean_absolute_error: 2.9083\n",
      "Epoch 27/150\n",
      "34/34 [==============================] - 0s 4ms/step - loss: 3.1958 - mean_absolute_error: 3.1958 - val_loss: 3.4301 - val_mean_absolute_error: 3.4301\n",
      "Epoch 28/150\n",
      "34/34 [==============================] - 0s 5ms/step - loss: 3.5952 - mean_absolute_error: 3.5952 - val_loss: 3.0325 - val_mean_absolute_error: 3.0325\n",
      "Epoch 29/150\n",
      "34/34 [==============================] - 0s 5ms/step - loss: 3.2098 - mean_absolute_error: 3.2098 - val_loss: 2.7904 - val_mean_absolute_error: 2.7904\n",
      "Epoch 30/150\n",
      "34/34 [==============================] - 0s 5ms/step - loss: 3.2341 - mean_absolute_error: 3.2341 - val_loss: 4.0299 - val_mean_absolute_error: 4.0299\n",
      "Epoch 31/150\n",
      "34/34 [==============================] - 0s 4ms/step - loss: 3.5866 - mean_absolute_error: 3.5866 - val_loss: 3.0051 - val_mean_absolute_error: 3.0051\n",
      "Epoch 32/150\n",
      "34/34 [==============================] - 0s 4ms/step - loss: 3.6610 - mean_absolute_error: 3.6610 - val_loss: 3.1892 - val_mean_absolute_error: 3.1892\n",
      "Epoch 33/150\n",
      "34/34 [==============================] - 0s 4ms/step - loss: 3.3127 - mean_absolute_error: 3.3127 - val_loss: 4.7038 - val_mean_absolute_error: 4.7038\n",
      "Epoch 34/150\n",
      "34/34 [==============================] - 0s 4ms/step - loss: 3.7004 - mean_absolute_error: 3.7004 - val_loss: 3.2782 - val_mean_absolute_error: 3.2782\n",
      "Epoch 35/150\n",
      "34/34 [==============================] - 0s 4ms/step - loss: 3.1554 - mean_absolute_error: 3.1554 - val_loss: 2.6463 - val_mean_absolute_error: 2.6463\n",
      "Epoch 36/150\n",
      "34/34 [==============================] - 0s 4ms/step - loss: 2.9495 - mean_absolute_error: 2.9495 - val_loss: 3.1129 - val_mean_absolute_error: 3.1129\n",
      "Epoch 37/150\n",
      "34/34 [==============================] - 0s 4ms/step - loss: 2.8571 - mean_absolute_error: 2.8571 - val_loss: 2.7920 - val_mean_absolute_error: 2.7920\n",
      "Epoch 38/150\n",
      "34/34 [==============================] - 0s 5ms/step - loss: 2.9062 - mean_absolute_error: 2.9062 - val_loss: 3.5422 - val_mean_absolute_error: 3.5422\n",
      "Epoch 39/150\n",
      "34/34 [==============================] - 0s 4ms/step - loss: 2.7659 - mean_absolute_error: 2.7659 - val_loss: 3.1455 - val_mean_absolute_error: 3.1455\n",
      "Epoch 40/150\n",
      "34/34 [==============================] - 0s 9ms/step - loss: 3.2639 - mean_absolute_error: 3.2639 - val_loss: 3.2565 - val_mean_absolute_error: 3.2565\n",
      "Epoch 41/150\n",
      "34/34 [==============================] - 0s 4ms/step - loss: 3.0603 - mean_absolute_error: 3.0603 - val_loss: 2.9073 - val_mean_absolute_error: 2.9073\n",
      "Epoch 42/150\n",
      "34/34 [==============================] - 0s 7ms/step - loss: 3.1545 - mean_absolute_error: 3.1545 - val_loss: 2.8491 - val_mean_absolute_error: 2.8491\n",
      "Epoch 43/150\n",
      "34/34 [==============================] - 0s 5ms/step - loss: 3.1400 - mean_absolute_error: 3.1400 - val_loss: 2.5259 - val_mean_absolute_error: 2.5259\n",
      "Epoch 44/150\n",
      "34/34 [==============================] - 0s 5ms/step - loss: 2.9375 - mean_absolute_error: 2.9375 - val_loss: 2.9764 - val_mean_absolute_error: 2.9764\n",
      "Epoch 45/150\n",
      "34/34 [==============================] - 0s 4ms/step - loss: 3.0742 - mean_absolute_error: 3.0742 - val_loss: 3.6237 - val_mean_absolute_error: 3.6237\n",
      "Epoch 46/150\n",
      "34/34 [==============================] - 0s 4ms/step - loss: 3.3599 - mean_absolute_error: 3.3599 - val_loss: 4.2400 - val_mean_absolute_error: 4.2400\n",
      "Epoch 47/150\n",
      "34/34 [==============================] - 0s 4ms/step - loss: 3.1479 - mean_absolute_error: 3.1479 - val_loss: 2.5651 - val_mean_absolute_error: 2.5651\n",
      "Epoch 48/150\n",
      "34/34 [==============================] - 0s 4ms/step - loss: 2.6830 - mean_absolute_error: 2.6830 - val_loss: 3.0386 - val_mean_absolute_error: 3.0386\n",
      "Epoch 49/150\n",
      "34/34 [==============================] - 0s 5ms/step - loss: 2.8300 - mean_absolute_error: 2.8300 - val_loss: 2.6105 - val_mean_absolute_error: 2.6105\n",
      "Epoch 50/150\n",
      "34/34 [==============================] - 0s 5ms/step - loss: 2.6703 - mean_absolute_error: 2.6703 - val_loss: 2.4947 - val_mean_absolute_error: 2.4947\n",
      "Epoch 51/150\n",
      "34/34 [==============================] - 0s 4ms/step - loss: 2.8328 - mean_absolute_error: 2.8328 - val_loss: 2.7751 - val_mean_absolute_error: 2.7751\n",
      "Epoch 52/150\n",
      "34/34 [==============================] - 0s 4ms/step - loss: 2.7376 - mean_absolute_error: 2.7376 - val_loss: 2.4196 - val_mean_absolute_error: 2.4196\n",
      "Epoch 53/150\n",
      "34/34 [==============================] - 0s 4ms/step - loss: 2.7016 - mean_absolute_error: 2.7016 - val_loss: 3.4779 - val_mean_absolute_error: 3.4779\n",
      "Epoch 54/150\n",
      "34/34 [==============================] - 0s 5ms/step - loss: 2.9561 - mean_absolute_error: 2.9561 - val_loss: 2.9775 - val_mean_absolute_error: 2.9775\n",
      "Epoch 55/150\n",
      "34/34 [==============================] - 0s 4ms/step - loss: 2.9017 - mean_absolute_error: 2.9017 - val_loss: 2.4161 - val_mean_absolute_error: 2.4161\n",
      "Epoch 56/150\n",
      "34/34 [==============================] - 0s 4ms/step - loss: 2.8176 - mean_absolute_error: 2.8176 - val_loss: 4.2175 - val_mean_absolute_error: 4.2175\n",
      "Epoch 57/150\n",
      "34/34 [==============================] - 0s 4ms/step - loss: 3.8185 - mean_absolute_error: 3.8185 - val_loss: 3.2775 - val_mean_absolute_error: 3.2775\n",
      "Epoch 58/150\n",
      "34/34 [==============================] - 0s 4ms/step - loss: 2.5607 - mean_absolute_error: 2.5607 - val_loss: 3.0373 - val_mean_absolute_error: 3.0373\n",
      "Epoch 59/150\n",
      "34/34 [==============================] - 0s 4ms/step - loss: 2.8627 - mean_absolute_error: 2.8627 - val_loss: 4.1829 - val_mean_absolute_error: 4.1829\n",
      "Epoch 60/150\n",
      "34/34 [==============================] - 0s 4ms/step - loss: 3.4639 - mean_absolute_error: 3.4639 - val_loss: 5.0718 - val_mean_absolute_error: 5.0718\n",
      "Epoch 61/150\n",
      "34/34 [==============================] - 0s 5ms/step - loss: 3.4410 - mean_absolute_error: 3.4410 - val_loss: 2.8122 - val_mean_absolute_error: 2.8122\n",
      "Epoch 62/150\n",
      "34/34 [==============================] - 0s 5ms/step - loss: 2.7857 - mean_absolute_error: 2.7857 - val_loss: 2.8681 - val_mean_absolute_error: 2.8681\n",
      "Epoch 63/150\n",
      "34/34 [==============================] - 0s 5ms/step - loss: 2.7883 - mean_absolute_error: 2.7883 - val_loss: 3.3376 - val_mean_absolute_error: 3.3376\n",
      "Epoch 64/150\n",
      "34/34 [==============================] - 0s 4ms/step - loss: 3.9213 - mean_absolute_error: 3.9213 - val_loss: 3.2042 - val_mean_absolute_error: 3.2042\n",
      "Epoch 65/150\n",
      "34/34 [==============================] - 0s 4ms/step - loss: 2.9484 - mean_absolute_error: 2.9484 - val_loss: 2.9036 - val_mean_absolute_error: 2.9036\n",
      "Epoch 66/150\n",
      "34/34 [==============================] - 0s 4ms/step - loss: 2.8375 - mean_absolute_error: 2.8375 - val_loss: 2.4647 - val_mean_absolute_error: 2.4647\n",
      "Epoch 67/150\n",
      "34/34 [==============================] - 0s 6ms/step - loss: 2.5806 - mean_absolute_error: 2.5806 - val_loss: 2.8625 - val_mean_absolute_error: 2.8625\n",
      "Epoch 68/150\n",
      "34/34 [==============================] - 0s 6ms/step - loss: 2.7554 - mean_absolute_error: 2.7554 - val_loss: 2.6631 - val_mean_absolute_error: 2.6631\n",
      "Epoch 69/150\n",
      "34/34 [==============================] - 0s 6ms/step - loss: 2.5956 - mean_absolute_error: 2.5956 - val_loss: 2.2940 - val_mean_absolute_error: 2.2940\n",
      "Epoch 70/150\n",
      "34/34 [==============================] - 0s 5ms/step - loss: 2.5673 - mean_absolute_error: 2.5673 - val_loss: 3.0145 - val_mean_absolute_error: 3.0145\n",
      "Epoch 71/150\n",
      "34/34 [==============================] - 0s 5ms/step - loss: 2.8027 - mean_absolute_error: 2.8027 - val_loss: 2.9738 - val_mean_absolute_error: 2.9738\n",
      "Epoch 72/150\n",
      "34/34 [==============================] - 0s 4ms/step - loss: 2.6358 - mean_absolute_error: 2.6358 - val_loss: 3.3098 - val_mean_absolute_error: 3.3098\n",
      "Epoch 73/150\n",
      "34/34 [==============================] - 0s 5ms/step - loss: 2.6737 - mean_absolute_error: 2.6737 - val_loss: 2.7077 - val_mean_absolute_error: 2.7077\n",
      "Epoch 74/150\n",
      "34/34 [==============================] - 0s 4ms/step - loss: 2.4973 - mean_absolute_error: 2.4973 - val_loss: 2.2376 - val_mean_absolute_error: 2.2376\n",
      "Epoch 75/150\n",
      "34/34 [==============================] - 0s 4ms/step - loss: 2.3467 - mean_absolute_error: 2.3467 - val_loss: 3.4045 - val_mean_absolute_error: 3.4045\n",
      "Epoch 76/150\n",
      "34/34 [==============================] - 0s 4ms/step - loss: 2.8180 - mean_absolute_error: 2.8180 - val_loss: 2.5861 - val_mean_absolute_error: 2.5861\n",
      "Epoch 77/150\n",
      "34/34 [==============================] - 0s 5ms/step - loss: 2.5385 - mean_absolute_error: 2.5385 - val_loss: 2.9636 - val_mean_absolute_error: 2.9636\n",
      "Epoch 78/150\n",
      "34/34 [==============================] - 0s 5ms/step - loss: 2.4432 - mean_absolute_error: 2.4432 - val_loss: 2.4971 - val_mean_absolute_error: 2.4971\n",
      "Epoch 79/150\n",
      "34/34 [==============================] - 0s 4ms/step - loss: 2.6020 - mean_absolute_error: 2.6020 - val_loss: 2.4881 - val_mean_absolute_error: 2.4881\n",
      "Epoch 80/150\n",
      "34/34 [==============================] - 0s 4ms/step - loss: 2.4337 - mean_absolute_error: 2.4337 - val_loss: 2.3563 - val_mean_absolute_error: 2.3563\n",
      "Epoch 81/150\n",
      "34/34 [==============================] - 0s 5ms/step - loss: 2.4842 - mean_absolute_error: 2.4842 - val_loss: 3.0209 - val_mean_absolute_error: 3.0209\n",
      "Epoch 82/150\n",
      "34/34 [==============================] - 0s 5ms/step - loss: 2.6511 - mean_absolute_error: 2.6511 - val_loss: 2.7112 - val_mean_absolute_error: 2.7112\n",
      "Epoch 83/150\n",
      "34/34 [==============================] - 0s 5ms/step - loss: 2.4454 - mean_absolute_error: 2.4454 - val_loss: 2.5170 - val_mean_absolute_error: 2.5170\n",
      "Epoch 84/150\n",
      "34/34 [==============================] - 0s 4ms/step - loss: 2.6548 - mean_absolute_error: 2.6548 - val_loss: 4.4024 - val_mean_absolute_error: 4.4024\n",
      "Epoch 85/150\n",
      "34/34 [==============================] - 0s 4ms/step - loss: 2.9226 - mean_absolute_error: 2.9226 - val_loss: 2.7306 - val_mean_absolute_error: 2.7306\n",
      "Epoch 86/150\n",
      "34/34 [==============================] - 0s 5ms/step - loss: 2.6145 - mean_absolute_error: 2.6145 - val_loss: 3.1328 - val_mean_absolute_error: 3.1328\n",
      "Epoch 87/150\n",
      "34/34 [==============================] - 0s 5ms/step - loss: 3.1167 - mean_absolute_error: 3.1167 - val_loss: 2.6580 - val_mean_absolute_error: 2.6580\n",
      "Epoch 88/150\n",
      "34/34 [==============================] - 0s 4ms/step - loss: 2.6362 - mean_absolute_error: 2.6362 - val_loss: 2.8392 - val_mean_absolute_error: 2.8392\n",
      "Epoch 89/150\n",
      "34/34 [==============================] - 0s 5ms/step - loss: 2.7819 - mean_absolute_error: 2.7819 - val_loss: 2.5493 - val_mean_absolute_error: 2.5493\n",
      "Epoch 90/150\n",
      "34/34 [==============================] - 0s 4ms/step - loss: 2.6174 - mean_absolute_error: 2.6174 - val_loss: 3.1870 - val_mean_absolute_error: 3.1870\n",
      "Epoch 91/150\n",
      "34/34 [==============================] - 0s 5ms/step - loss: 2.6948 - mean_absolute_error: 2.6948 - val_loss: 3.9475 - val_mean_absolute_error: 3.9475\n",
      "Epoch 92/150\n",
      "34/34 [==============================] - 0s 5ms/step - loss: 2.7652 - mean_absolute_error: 2.7652 - val_loss: 2.6211 - val_mean_absolute_error: 2.6211\n",
      "Epoch 93/150\n",
      "34/34 [==============================] - 0s 6ms/step - loss: 2.6508 - mean_absolute_error: 2.6508 - val_loss: 2.4229 - val_mean_absolute_error: 2.4229\n",
      "Epoch 94/150\n",
      "34/34 [==============================] - 0s 5ms/step - loss: 2.9155 - mean_absolute_error: 2.9155 - val_loss: 2.5867 - val_mean_absolute_error: 2.5867\n",
      "Epoch 95/150\n",
      "34/34 [==============================] - 0s 4ms/step - loss: 2.6053 - mean_absolute_error: 2.6053 - val_loss: 2.6150 - val_mean_absolute_error: 2.6150\n",
      "Epoch 96/150\n",
      "34/34 [==============================] - 0s 4ms/step - loss: 2.7685 - mean_absolute_error: 2.7685 - val_loss: 2.9118 - val_mean_absolute_error: 2.9118\n",
      "Epoch 97/150\n",
      "34/34 [==============================] - 0s 4ms/step - loss: 2.6679 - mean_absolute_error: 2.6679 - val_loss: 3.3506 - val_mean_absolute_error: 3.3506\n",
      "Epoch 98/150\n",
      "34/34 [==============================] - 0s 4ms/step - loss: 2.6675 - mean_absolute_error: 2.6675 - val_loss: 2.6367 - val_mean_absolute_error: 2.6367\n",
      "Epoch 99/150\n",
      "34/34 [==============================] - 0s 4ms/step - loss: 2.5678 - mean_absolute_error: 2.5678 - val_loss: 3.0690 - val_mean_absolute_error: 3.0690\n",
      "Epoch 100/150\n",
      "34/34 [==============================] - 0s 5ms/step - loss: 3.0707 - mean_absolute_error: 3.0707 - val_loss: 2.4573 - val_mean_absolute_error: 2.4573\n",
      "Epoch 101/150\n",
      "34/34 [==============================] - 0s 5ms/step - loss: 2.8824 - mean_absolute_error: 2.8824 - val_loss: 4.0416 - val_mean_absolute_error: 4.0416\n",
      "Epoch 102/150\n",
      "34/34 [==============================] - 0s 4ms/step - loss: 3.0517 - mean_absolute_error: 3.0517 - val_loss: 2.5733 - val_mean_absolute_error: 2.5733\n",
      "Epoch 103/150\n",
      "34/34 [==============================] - 0s 4ms/step - loss: 2.6212 - mean_absolute_error: 2.6212 - val_loss: 2.7232 - val_mean_absolute_error: 2.7232\n",
      "Epoch 104/150\n",
      "34/34 [==============================] - 0s 4ms/step - loss: 2.6054 - mean_absolute_error: 2.6054 - val_loss: 3.4103 - val_mean_absolute_error: 3.4103\n",
      "Epoch 105/150\n",
      "34/34 [==============================] - 0s 5ms/step - loss: 2.6094 - mean_absolute_error: 2.6094 - val_loss: 2.5785 - val_mean_absolute_error: 2.5785\n",
      "Epoch 106/150\n",
      "34/34 [==============================] - 0s 4ms/step - loss: 2.3490 - mean_absolute_error: 2.3490 - val_loss: 2.6553 - val_mean_absolute_error: 2.6553\n",
      "Epoch 107/150\n",
      "34/34 [==============================] - 0s 4ms/step - loss: 2.6621 - mean_absolute_error: 2.6621 - val_loss: 2.8875 - val_mean_absolute_error: 2.8875\n",
      "Epoch 108/150\n",
      "34/34 [==============================] - 0s 4ms/step - loss: 2.5724 - mean_absolute_error: 2.5724 - val_loss: 2.2911 - val_mean_absolute_error: 2.2911\n",
      "Epoch 109/150\n",
      "34/34 [==============================] - 0s 4ms/step - loss: 2.4108 - mean_absolute_error: 2.4108 - val_loss: 2.3404 - val_mean_absolute_error: 2.3404\n",
      "Epoch 110/150\n",
      "34/34 [==============================] - 0s 4ms/step - loss: 2.4093 - mean_absolute_error: 2.4093 - val_loss: 2.5257 - val_mean_absolute_error: 2.5257\n",
      "Epoch 111/150\n",
      "34/34 [==============================] - 0s 4ms/step - loss: 2.3488 - mean_absolute_error: 2.3488 - val_loss: 2.8795 - val_mean_absolute_error: 2.8795\n",
      "Epoch 112/150\n",
      "34/34 [==============================] - 0s 5ms/step - loss: 2.4574 - mean_absolute_error: 2.4574 - val_loss: 3.3708 - val_mean_absolute_error: 3.3708\n",
      "Epoch 113/150\n",
      "34/34 [==============================] - 0s 5ms/step - loss: 2.3804 - mean_absolute_error: 2.3804 - val_loss: 2.5292 - val_mean_absolute_error: 2.5292\n",
      "Epoch 114/150\n",
      "34/34 [==============================] - 0s 4ms/step - loss: 2.8240 - mean_absolute_error: 2.8240 - val_loss: 2.8194 - val_mean_absolute_error: 2.8194\n",
      "Epoch 115/150\n",
      "34/34 [==============================] - 0s 4ms/step - loss: 2.7595 - mean_absolute_error: 2.7595 - val_loss: 2.4581 - val_mean_absolute_error: 2.4581\n",
      "Epoch 116/150\n",
      "34/34 [==============================] - 0s 4ms/step - loss: 2.4023 - mean_absolute_error: 2.4023 - val_loss: 2.3448 - val_mean_absolute_error: 2.3448\n",
      "Epoch 117/150\n",
      "34/34 [==============================] - 0s 4ms/step - loss: 2.3989 - mean_absolute_error: 2.3989 - val_loss: 2.7524 - val_mean_absolute_error: 2.7524\n",
      "Epoch 118/150\n",
      "34/34 [==============================] - 0s 4ms/step - loss: 2.8405 - mean_absolute_error: 2.8405 - val_loss: 3.1417 - val_mean_absolute_error: 3.1417\n",
      "Epoch 119/150\n",
      "34/34 [==============================] - 0s 4ms/step - loss: 2.6053 - mean_absolute_error: 2.6053 - val_loss: 2.4754 - val_mean_absolute_error: 2.4754\n",
      "Epoch 120/150\n",
      "34/34 [==============================] - 0s 5ms/step - loss: 2.4443 - mean_absolute_error: 2.4443 - val_loss: 2.3845 - val_mean_absolute_error: 2.3845\n",
      "Epoch 121/150\n",
      "34/34 [==============================] - 0s 4ms/step - loss: 2.7864 - mean_absolute_error: 2.7864 - val_loss: 2.5181 - val_mean_absolute_error: 2.5181\n",
      "Epoch 122/150\n",
      "34/34 [==============================] - 0s 4ms/step - loss: 2.5318 - mean_absolute_error: 2.5318 - val_loss: 3.0782 - val_mean_absolute_error: 3.0782\n",
      "Epoch 123/150\n",
      "34/34 [==============================] - 0s 4ms/step - loss: 2.7917 - mean_absolute_error: 2.7917 - val_loss: 2.5634 - val_mean_absolute_error: 2.5634\n",
      "Epoch 124/150\n",
      "34/34 [==============================] - 0s 4ms/step - loss: 2.5989 - mean_absolute_error: 2.5989 - val_loss: 3.0285 - val_mean_absolute_error: 3.0285\n",
      "Epoch 125/150\n",
      "34/34 [==============================] - 0s 4ms/step - loss: 2.3841 - mean_absolute_error: 2.3841 - val_loss: 2.6493 - val_mean_absolute_error: 2.6493\n",
      "Epoch 126/150\n",
      "34/34 [==============================] - 0s 4ms/step - loss: 2.6016 - mean_absolute_error: 2.6016 - val_loss: 2.5048 - val_mean_absolute_error: 2.5048\n",
      "Epoch 127/150\n",
      "34/34 [==============================] - 0s 8ms/step - loss: 2.5292 - mean_absolute_error: 2.5292 - val_loss: 2.5040 - val_mean_absolute_error: 2.5040\n",
      "Epoch 128/150\n",
      "34/34 [==============================] - 0s 4ms/step - loss: 2.5680 - mean_absolute_error: 2.5680 - val_loss: 2.2682 - val_mean_absolute_error: 2.2682\n",
      "Epoch 129/150\n",
      "34/34 [==============================] - 0s 4ms/step - loss: 2.5782 - mean_absolute_error: 2.5782 - val_loss: 2.3238 - val_mean_absolute_error: 2.3238\n",
      "Epoch 130/150\n",
      "34/34 [==============================] - 0s 5ms/step - loss: 2.6888 - mean_absolute_error: 2.6888 - val_loss: 2.3861 - val_mean_absolute_error: 2.3861\n",
      "Epoch 131/150\n",
      "34/34 [==============================] - 0s 4ms/step - loss: 2.3690 - mean_absolute_error: 2.3690 - val_loss: 4.1220 - val_mean_absolute_error: 4.1220\n",
      "Epoch 132/150\n",
      "34/34 [==============================] - 0s 4ms/step - loss: 2.5885 - mean_absolute_error: 2.5885 - val_loss: 2.4836 - val_mean_absolute_error: 2.4836\n",
      "Epoch 133/150\n",
      "34/34 [==============================] - 0s 4ms/step - loss: 2.4449 - mean_absolute_error: 2.4449 - val_loss: 2.5733 - val_mean_absolute_error: 2.5733\n",
      "Epoch 134/150\n",
      "34/34 [==============================] - 0s 4ms/step - loss: 2.5611 - mean_absolute_error: 2.5611 - val_loss: 2.5860 - val_mean_absolute_error: 2.5860\n",
      "Epoch 135/150\n",
      "34/34 [==============================] - 0s 4ms/step - loss: 2.5792 - mean_absolute_error: 2.5792 - val_loss: 2.7910 - val_mean_absolute_error: 2.7910\n",
      "Epoch 136/150\n",
      "34/34 [==============================] - 0s 4ms/step - loss: 2.6380 - mean_absolute_error: 2.6380 - val_loss: 2.7378 - val_mean_absolute_error: 2.7378\n",
      "Epoch 137/150\n",
      "34/34 [==============================] - 0s 4ms/step - loss: 2.3142 - mean_absolute_error: 2.3142 - val_loss: 2.2812 - val_mean_absolute_error: 2.2812\n",
      "Epoch 138/150\n",
      "34/34 [==============================] - 0s 4ms/step - loss: 2.2838 - mean_absolute_error: 2.2838 - val_loss: 2.3486 - val_mean_absolute_error: 2.3486\n",
      "Epoch 139/150\n",
      "34/34 [==============================] - 0s 4ms/step - loss: 2.4386 - mean_absolute_error: 2.4386 - val_loss: 2.4228 - val_mean_absolute_error: 2.4228\n",
      "Epoch 140/150\n",
      "34/34 [==============================] - 0s 4ms/step - loss: 2.5836 - mean_absolute_error: 2.5836 - val_loss: 2.7042 - val_mean_absolute_error: 2.7042\n",
      "Epoch 141/150\n",
      "34/34 [==============================] - 0s 4ms/step - loss: 2.4440 - mean_absolute_error: 2.4440 - val_loss: 2.4654 - val_mean_absolute_error: 2.4654\n",
      "Epoch 142/150\n",
      "34/34 [==============================] - 0s 4ms/step - loss: 2.6806 - mean_absolute_error: 2.6806 - val_loss: 2.7234 - val_mean_absolute_error: 2.7234\n",
      "Epoch 143/150\n",
      "34/34 [==============================] - 0s 5ms/step - loss: 2.6695 - mean_absolute_error: 2.6695 - val_loss: 2.5957 - val_mean_absolute_error: 2.5957\n",
      "Epoch 144/150\n",
      "34/34 [==============================] - 0s 4ms/step - loss: 3.0551 - mean_absolute_error: 3.0551 - val_loss: 3.1709 - val_mean_absolute_error: 3.1709\n",
      "Epoch 145/150\n",
      "34/34 [==============================] - 0s 4ms/step - loss: 2.5302 - mean_absolute_error: 2.5302 - val_loss: 2.4412 - val_mean_absolute_error: 2.4412\n",
      "Epoch 146/150\n",
      "34/34 [==============================] - 0s 4ms/step - loss: 2.3198 - mean_absolute_error: 2.3198 - val_loss: 2.3760 - val_mean_absolute_error: 2.3760\n",
      "Epoch 147/150\n",
      "34/34 [==============================] - 0s 5ms/step - loss: 2.3297 - mean_absolute_error: 2.3297 - val_loss: 2.5833 - val_mean_absolute_error: 2.5833\n",
      "Epoch 148/150\n",
      "34/34 [==============================] - 0s 4ms/step - loss: 2.6153 - mean_absolute_error: 2.6153 - val_loss: 2.5585 - val_mean_absolute_error: 2.5585\n",
      "Epoch 149/150\n",
      "34/34 [==============================] - 0s 4ms/step - loss: 2.2871 - mean_absolute_error: 2.2871 - val_loss: 2.5758 - val_mean_absolute_error: 2.5758\n",
      "Epoch 150/150\n",
      "34/34 [==============================] - 0s 4ms/step - loss: 2.6609 - mean_absolute_error: 2.6609 - val_loss: 2.6476 - val_mean_absolute_error: 2.6476\n"
     ]
    }
   ],
   "source": [
    "history2 = model2.fit(x=scaled_train_samples, y=train_labels, validation_split=0.2, batch_size=64, epochs=150, shuffle=True, verbose=1)"
   ]
  },
  {
   "cell_type": "code",
   "execution_count": 163,
   "id": "1d2aa2dc-c718-4222-945d-ef4f24d2d482",
   "metadata": {
    "tags": []
   },
   "outputs": [
    {
     "data": {
      "image/png": "[encoded data removed]",
      "text/plain": [
       "<Figure size 640x480 with 1 Axes>"
      ]
     },
     "metadata": {},
     "output_type": "display_data"
    }
   ],
   "source": [
    "plt.plot(history2.history['loss'])\n",
    "plt.title('the loss of training model')\n",
    "plt.xlabel('epochs')\n",
    "plt.ylabel('loss')\n",
    "plt.show()"
   ]
  },
  {
   "cell_type": "code",
   "execution_count": 164,
   "id": "2b396e7f-e313-4287-8950-26c7677d69d9",
   "metadata": {
    "tags": []
   },
   "outputs": [
    {
     "data": {
      "image/png": "[encoded data removed]",
      "text/plain": [
       "<Figure size 640x480 with 1 Axes>"
      ]
     },
     "metadata": {},
     "output_type": "display_data"
    }
   ],
   "source": [
    "history_dict = history2.history\n",
    "loss_values = history_dict[\"loss\"]\n",
    "val_loss_values = history_dict[\"val_loss\"]\n",
    "epochs = range(1, len(loss_values) + 1)\n",
    "plt.plot(epochs, loss_values, \"bo\", label=\"Training loss\")\n",
    "plt.plot(epochs, val_loss_values, \"b\", label=\"Validation loss\")\n",
    "plt.title(\"Training and validation loss\")\n",
    "plt.xlabel(\"Epochs\")\n",
    "plt.ylabel(\"Loss\")\n",
    "plt.legend()\n",
    "plt.show()"
   ]
  },
  {
   "cell_type": "markdown",
   "id": "eca5d40b-5ff4-4566-a4d5-342c185bf6dd",
   "metadata": {
    "tags": []
   },
   "source": [
    "### predict"
   ]
  },
  {
   "cell_type": "code",
   "execution_count": 165,
   "id": "8b1b773e-522c-4d96-90f0-c153a5269d0a",
   "metadata": {
    "tags": []
   },
   "outputs": [],
   "source": [
    "predictions2 = model2.predict(x=scaled_test_samples, batch_size=64, verbose=0)\n",
    "#print(predictions2)"
   ]
  },
  {
   "cell_type": "markdown",
   "id": "822240c5-e588-465b-84c7-63b456ba8742",
   "metadata": {},
   "source": [
    "### Conclusions"
   ]
  },
  {
   "cell_type": "code",
   "execution_count": 166,
   "id": "90493057-aa9c-4086-a415-2cbfc3b2fcfc",
   "metadata": {
    "tags": []
   },
   "outputs": [
    {
     "data": {
      "image/png": "[encoded data removed]",
      "text/plain": [
       "<Figure size 640x480 with 1 Axes>"
      ]
     },
     "metadata": {},
     "output_type": "display_data"
    }
   ],
   "source": [
    "histogram(y_pred = predictions2, y_true = test_labels)"
   ]
  },
  {
   "cell_type": "code",
   "execution_count": 167,
   "id": "f43c211b-61ee-4216-b91d-d90c380f6174",
   "metadata": {
    "tags": []
   },
   "outputs": [
    {
     "data": {
      "image/png": "[encoded data removed]",
      "text/plain": [
       "<Figure size 640x480 with 1 Axes>"
      ]
     },
     "metadata": {},
     "output_type": "display_data"
    }
   ],
   "source": [
    "# set offset and limitation\n",
    "offset = 0\n",
    "limit = 10\n",
    "\n",
    "limit = min(offset + limit, len(test_dataset))\n",
    "\n",
    "# rows\n",
    "tdataset2 = np.array([])\n",
    "tdataset2 = np.append(arr = tdataset, values = test_dataset[offset : (limit + offset),0])\n",
    "\n",
    "# predicted datas\n",
    "predict2 = np.array([])\n",
    "predict2 = np.append(arr = predict, values = predictions2[offset : (limit + offset),0])\n",
    "    \n",
    "# true datas\n",
    "targets2 = np.array([])\n",
    "targets2 = np.append(arr = targets, values = test_labels[offset : (limit + offset)])\n",
    "\n",
    "# print chart\n",
    "group_bar_chart(species = tdataset, y_pred = predict, y_true = targets)"
   ]
  },
  {
   "cell_type": "markdown",
   "id": "9f584c20-5c03-47db-bb88-59e37f9d4a31",
   "metadata": {},
   "source": [
    "### Train model2 (again) "
   ]
  },
  {
   "cell_type": "code",
   "execution_count": 168,
   "id": "d5717bc8-5d24-40e5-91c9-4f383f60b3e6",
   "metadata": {
    "tags": []
   },
   "outputs": [
    {
     "name": "stdout",
     "output_type": "stream",
     "text": [
      "Epoch 1/256\n",
      "241/241 [==============================] - 1s 2ms/step - loss: 5.1233 - mean_absolute_error: 5.1233 - val_loss: 7.4077 - val_mean_absolute_error: 7.4077\n",
      "Epoch 2/256\n",
      "241/241 [==============================] - 1s 2ms/step - loss: 4.8220 - mean_absolute_error: 4.8220 - val_loss: 4.5238 - val_mean_absolute_error: 4.5238\n",
      "Epoch 3/256\n",
      "241/241 [==============================] - 1s 3ms/step - loss: 4.9836 - mean_absolute_error: 4.9836 - val_loss: 3.1540 - val_mean_absolute_error: 3.1540\n",
      "Epoch 4/256\n",
      "241/241 [==============================] - 1s 2ms/step - loss: 3.6490 - mean_absolute_error: 3.6490 - val_loss: 4.5480 - val_mean_absolute_error: 4.5480\n",
      "Epoch 5/256\n",
      "241/241 [==============================] - 1s 2ms/step - loss: 4.7763 - mean_absolute_error: 4.7763 - val_loss: 5.5959 - val_mean_absolute_error: 5.5959\n",
      "Epoch 6/256\n",
      "241/241 [==============================] - 1s 2ms/step - loss: 4.0384 - mean_absolute_error: 4.0384 - val_loss: 2.8459 - val_mean_absolute_error: 2.8459\n",
      "Epoch 7/256\n",
      "241/241 [==============================] - 1s 2ms/step - loss: 4.2419 - mean_absolute_error: 4.2419 - val_loss: 2.6737 - val_mean_absolute_error: 2.6737\n",
      "Epoch 8/256\n",
      "241/241 [==============================] - 1s 2ms/step - loss: 4.0718 - mean_absolute_error: 4.0718 - val_loss: 6.4323 - val_mean_absolute_error: 6.4323\n",
      "Epoch 9/256\n",
      "241/241 [==============================] - 1s 2ms/step - loss: 3.8474 - mean_absolute_error: 3.8474 - val_loss: 5.9969 - val_mean_absolute_error: 5.9969\n",
      "Epoch 10/256\n",
      "241/241 [==============================] - 1s 2ms/step - loss: 3.6425 - mean_absolute_error: 3.6425 - val_loss: 3.9600 - val_mean_absolute_error: 3.9600\n",
      "Epoch 11/256\n",
      "241/241 [==============================] - 1s 2ms/step - loss: 3.4926 - mean_absolute_error: 3.4926 - val_loss: 2.9873 - val_mean_absolute_error: 2.9873\n",
      "Epoch 12/256\n",
      "241/241 [==============================] - 1s 2ms/step - loss: 3.7082 - mean_absolute_error: 3.7082 - val_loss: 4.5018 - val_mean_absolute_error: 4.5018\n",
      "Epoch 13/256\n",
      "241/241 [==============================] - 1s 2ms/step - loss: 4.1272 - mean_absolute_error: 4.1272 - val_loss: 5.3589 - val_mean_absolute_error: 5.3589\n",
      "Epoch 14/256\n",
      "241/241 [==============================] - 1s 3ms/step - loss: 4.2228 - mean_absolute_error: 4.2228 - val_loss: 2.7094 - val_mean_absolute_error: 2.7094\n",
      "Epoch 15/256\n",
      "241/241 [==============================] - 1s 3ms/step - loss: 3.2720 - mean_absolute_error: 3.2720 - val_loss: 3.1773 - val_mean_absolute_error: 3.1773\n",
      "Epoch 16/256\n",
      "241/241 [==============================] - 1s 2ms/step - loss: 4.0409 - mean_absolute_error: 4.0409 - val_loss: 3.0611 - val_mean_absolute_error: 3.0611\n",
      "Epoch 17/256\n",
      "241/241 [==============================] - 1s 2ms/step - loss: 3.2207 - mean_absolute_error: 3.2207 - val_loss: 4.2884 - val_mean_absolute_error: 4.2884\n",
      "Epoch 18/256\n",
      "241/241 [==============================] - 1s 2ms/step - loss: 3.6171 - mean_absolute_error: 3.6171 - val_loss: 5.8134 - val_mean_absolute_error: 5.8134\n",
      "Epoch 19/256\n",
      "241/241 [==============================] - 1s 3ms/step - loss: 3.4702 - mean_absolute_error: 3.4702 - val_loss: 4.0470 - val_mean_absolute_error: 4.0470\n",
      "Epoch 20/256\n",
      "241/241 [==============================] - 1s 2ms/step - loss: 3.4357 - mean_absolute_error: 3.4357 - val_loss: 2.4731 - val_mean_absolute_error: 2.4731\n",
      "Epoch 21/256\n",
      "241/241 [==============================] - 1s 3ms/step - loss: 3.1276 - mean_absolute_error: 3.1276 - val_loss: 3.0556 - val_mean_absolute_error: 3.0556\n",
      "Epoch 22/256\n",
      "241/241 [==============================] - 1s 3ms/step - loss: 3.5033 - mean_absolute_error: 3.5033 - val_loss: 2.7362 - val_mean_absolute_error: 2.7362\n",
      "Epoch 23/256\n",
      "241/241 [==============================] - 1s 2ms/step - loss: 3.3313 - mean_absolute_error: 3.3313 - val_loss: 4.3675 - val_mean_absolute_error: 4.3675\n",
      "Epoch 24/256\n",
      "241/241 [==============================] - 1s 2ms/step - loss: 3.1594 - mean_absolute_error: 3.1594 - val_loss: 2.9710 - val_mean_absolute_error: 2.9710\n",
      "Epoch 25/256\n",
      "241/241 [==============================] - 1s 2ms/step - loss: 3.3067 - mean_absolute_error: 3.3067 - val_loss: 2.6642 - val_mean_absolute_error: 2.6642\n",
      "Epoch 26/256\n",
      "241/241 [==============================] - 1s 2ms/step - loss: 3.8306 - mean_absolute_error: 3.8306 - val_loss: 2.6732 - val_mean_absolute_error: 2.6732\n",
      "Epoch 27/256\n",
      "241/241 [==============================] - 1s 3ms/step - loss: 3.5145 - mean_absolute_error: 3.5145 - val_loss: 3.2599 - val_mean_absolute_error: 3.2599\n",
      "Epoch 28/256\n",
      "241/241 [==============================] - 1s 3ms/step - loss: 3.6383 - mean_absolute_error: 3.6383 - val_loss: 2.6933 - val_mean_absolute_error: 2.6933\n",
      "Epoch 29/256\n",
      "241/241 [==============================] - 1s 2ms/step - loss: 3.2156 - mean_absolute_error: 3.2156 - val_loss: 2.9562 - val_mean_absolute_error: 2.9562\n",
      "Epoch 30/256\n",
      "241/241 [==============================] - 1s 3ms/step - loss: 3.3460 - mean_absolute_error: 3.3460 - val_loss: 3.1622 - val_mean_absolute_error: 3.1622\n",
      "Epoch 31/256\n",
      "241/241 [==============================] - 1s 2ms/step - loss: 3.4492 - mean_absolute_error: 3.4492 - val_loss: 3.5172 - val_mean_absolute_error: 3.5172\n",
      "Epoch 32/256\n",
      "241/241 [==============================] - 1s 2ms/step - loss: 3.4082 - mean_absolute_error: 3.4082 - val_loss: 2.5264 - val_mean_absolute_error: 2.5264\n",
      "Epoch 33/256\n",
      "241/241 [==============================] - 1s 2ms/step - loss: 3.5092 - mean_absolute_error: 3.5092 - val_loss: 3.6145 - val_mean_absolute_error: 3.6145\n",
      "Epoch 34/256\n",
      "241/241 [==============================] - 1s 2ms/step - loss: 3.2034 - mean_absolute_error: 3.2034 - val_loss: 4.3935 - val_mean_absolute_error: 4.3935\n",
      "Epoch 35/256\n",
      "241/241 [==============================] - 1s 3ms/step - loss: 3.5293 - mean_absolute_error: 3.5293 - val_loss: 3.2023 - val_mean_absolute_error: 3.2023\n",
      "Epoch 36/256\n",
      "241/241 [==============================] - 1s 2ms/step - loss: 3.1984 - mean_absolute_error: 3.1984 - val_loss: 2.8897 - val_mean_absolute_error: 2.8897\n",
      "Epoch 37/256\n",
      "241/241 [==============================] - 1s 2ms/step - loss: 3.4251 - mean_absolute_error: 3.4251 - val_loss: 2.8375 - val_mean_absolute_error: 2.8375\n",
      "Epoch 38/256\n",
      "241/241 [==============================] - 1s 3ms/step - loss: 3.1641 - mean_absolute_error: 3.1641 - val_loss: 2.8444 - val_mean_absolute_error: 2.8444\n",
      "Epoch 39/256\n",
      "241/241 [==============================] - 1s 3ms/step - loss: 3.4228 - mean_absolute_error: 3.4228 - val_loss: 2.3253 - val_mean_absolute_error: 2.3253\n",
      "Epoch 40/256\n",
      "241/241 [==============================] - 1s 3ms/step - loss: 3.2160 - mean_absolute_error: 3.2160 - val_loss: 2.9772 - val_mean_absolute_error: 2.9772\n",
      "Epoch 41/256\n",
      "241/241 [==============================] - 1s 3ms/step - loss: 3.0999 - mean_absolute_error: 3.0999 - val_loss: 3.2859 - val_mean_absolute_error: 3.2859\n",
      "Epoch 42/256\n",
      "241/241 [==============================] - 1s 2ms/step - loss: 3.1200 - mean_absolute_error: 3.1200 - val_loss: 3.6992 - val_mean_absolute_error: 3.6992\n",
      "Epoch 43/256\n",
      "241/241 [==============================] - 1s 2ms/step - loss: 3.0466 - mean_absolute_error: 3.0466 - val_loss: 2.7778 - val_mean_absolute_error: 2.7778\n",
      "Epoch 44/256\n",
      "241/241 [==============================] - 1s 3ms/step - loss: 3.1041 - mean_absolute_error: 3.1041 - val_loss: 2.8472 - val_mean_absolute_error: 2.8472\n",
      "Epoch 45/256\n",
      "241/241 [==============================] - 1s 3ms/step - loss: 3.0495 - mean_absolute_error: 3.0495 - val_loss: 2.7781 - val_mean_absolute_error: 2.7781\n",
      "Epoch 46/256\n",
      "241/241 [==============================] - 1s 3ms/step - loss: 2.9888 - mean_absolute_error: 2.9888 - val_loss: 2.6848 - val_mean_absolute_error: 2.6848\n",
      "Epoch 47/256\n",
      "241/241 [==============================] - 1s 3ms/step - loss: 3.0607 - mean_absolute_error: 3.0607 - val_loss: 2.5006 - val_mean_absolute_error: 2.5006\n",
      "Epoch 48/256\n",
      "241/241 [==============================] - 1s 2ms/step - loss: 3.2461 - mean_absolute_error: 3.2461 - val_loss: 3.9985 - val_mean_absolute_error: 3.9985\n",
      "Epoch 49/256\n",
      "241/241 [==============================] - 1s 3ms/step - loss: 3.1545 - mean_absolute_error: 3.1545 - val_loss: 2.8313 - val_mean_absolute_error: 2.8313\n",
      "Epoch 50/256\n",
      "241/241 [==============================] - 1s 3ms/step - loss: 3.2093 - mean_absolute_error: 3.2093 - val_loss: 3.1412 - val_mean_absolute_error: 3.1412\n",
      "Epoch 51/256\n",
      "241/241 [==============================] - 1s 3ms/step - loss: 2.9200 - mean_absolute_error: 2.9200 - val_loss: 2.9258 - val_mean_absolute_error: 2.9258\n",
      "Epoch 52/256\n",
      "241/241 [==============================] - 1s 3ms/step - loss: 3.2719 - mean_absolute_error: 3.2719 - val_loss: 2.5772 - val_mean_absolute_error: 2.5772\n",
      "Epoch 53/256\n",
      "241/241 [==============================] - 1s 3ms/step - loss: 2.8309 - mean_absolute_error: 2.8309 - val_loss: 2.8927 - val_mean_absolute_error: 2.8927\n",
      "Epoch 54/256\n",
      "241/241 [==============================] - 1s 3ms/step - loss: 3.0944 - mean_absolute_error: 3.0944 - val_loss: 3.4317 - val_mean_absolute_error: 3.4317\n",
      "Epoch 55/256\n",
      "241/241 [==============================] - 1s 3ms/step - loss: 2.9706 - mean_absolute_error: 2.9706 - val_loss: 2.2678 - val_mean_absolute_error: 2.2678\n",
      "Epoch 56/256\n",
      "241/241 [==============================] - 1s 3ms/step - loss: 3.1889 - mean_absolute_error: 3.1889 - val_loss: 5.3784 - val_mean_absolute_error: 5.3784\n",
      "Epoch 57/256\n",
      "241/241 [==============================] - 1s 3ms/step - loss: 3.0545 - mean_absolute_error: 3.0545 - val_loss: 2.5159 - val_mean_absolute_error: 2.5159\n",
      "Epoch 58/256\n",
      "241/241 [==============================] - 1s 2ms/step - loss: 2.8976 - mean_absolute_error: 2.8976 - val_loss: 2.6042 - val_mean_absolute_error: 2.6042\n",
      "Epoch 59/256\n",
      "241/241 [==============================] - 1s 3ms/step - loss: 2.9177 - mean_absolute_error: 2.9177 - val_loss: 3.2229 - val_mean_absolute_error: 3.2229\n",
      "Epoch 60/256\n",
      "241/241 [==============================] - 1s 3ms/step - loss: 2.9487 - mean_absolute_error: 2.9487 - val_loss: 2.3127 - val_mean_absolute_error: 2.3127\n",
      "Epoch 61/256\n",
      "241/241 [==============================] - 1s 3ms/step - loss: 2.9791 - mean_absolute_error: 2.9791 - val_loss: 2.6306 - val_mean_absolute_error: 2.6306\n",
      "Epoch 62/256\n",
      "241/241 [==============================] - 1s 3ms/step - loss: 3.0894 - mean_absolute_error: 3.0894 - val_loss: 2.2453 - val_mean_absolute_error: 2.2453\n",
      "Epoch 63/256\n",
      "241/241 [==============================] - 1s 3ms/step - loss: 2.9453 - mean_absolute_error: 2.9453 - val_loss: 2.6536 - val_mean_absolute_error: 2.6536\n",
      "Epoch 64/256\n",
      "241/241 [==============================] - 1s 3ms/step - loss: 3.0349 - mean_absolute_error: 3.0349 - val_loss: 3.9791 - val_mean_absolute_error: 3.9791\n",
      "Epoch 65/256\n",
      "241/241 [==============================] - 1s 3ms/step - loss: 3.0820 - mean_absolute_error: 3.0820 - val_loss: 2.0987 - val_mean_absolute_error: 2.0987\n",
      "Epoch 66/256\n",
      "241/241 [==============================] - 1s 3ms/step - loss: 2.9615 - mean_absolute_error: 2.9615 - val_loss: 3.4386 - val_mean_absolute_error: 3.4386\n",
      "Epoch 67/256\n",
      "241/241 [==============================] - 1s 3ms/step - loss: 2.9385 - mean_absolute_error: 2.9385 - val_loss: 3.3289 - val_mean_absolute_error: 3.3289\n",
      "Epoch 68/256\n",
      "241/241 [==============================] - 1s 3ms/step - loss: 3.1283 - mean_absolute_error: 3.1283 - val_loss: 2.7390 - val_mean_absolute_error: 2.7390\n",
      "Epoch 69/256\n",
      "241/241 [==============================] - 1s 3ms/step - loss: 3.2061 - mean_absolute_error: 3.2061 - val_loss: 3.4293 - val_mean_absolute_error: 3.4293\n",
      "Epoch 70/256\n",
      "241/241 [==============================] - 1s 3ms/step - loss: 3.0730 - mean_absolute_error: 3.0730 - val_loss: 2.4474 - val_mean_absolute_error: 2.4474\n",
      "Epoch 71/256\n",
      "241/241 [==============================] - 1s 3ms/step - loss: 2.8313 - mean_absolute_error: 2.8313 - val_loss: 2.2209 - val_mean_absolute_error: 2.2209\n",
      "Epoch 72/256\n",
      "241/241 [==============================] - 1s 3ms/step - loss: 3.1056 - mean_absolute_error: 3.1056 - val_loss: 2.0579 - val_mean_absolute_error: 2.0579\n",
      "Epoch 73/256\n",
      "241/241 [==============================] - 1s 3ms/step - loss: 2.8225 - mean_absolute_error: 2.8225 - val_loss: 2.3668 - val_mean_absolute_error: 2.3668\n",
      "Epoch 74/256\n",
      "241/241 [==============================] - 1s 3ms/step - loss: 3.0566 - mean_absolute_error: 3.0566 - val_loss: 2.2031 - val_mean_absolute_error: 2.2031\n",
      "Epoch 75/256\n",
      "241/241 [==============================] - 1s 3ms/step - loss: 3.0073 - mean_absolute_error: 3.0073 - val_loss: 2.4406 - val_mean_absolute_error: 2.4406\n",
      "Epoch 76/256\n",
      "241/241 [==============================] - 1s 3ms/step - loss: 2.7810 - mean_absolute_error: 2.7810 - val_loss: 3.4212 - val_mean_absolute_error: 3.4212\n",
      "Epoch 77/256\n",
      "241/241 [==============================] - 1s 3ms/step - loss: 2.8799 - mean_absolute_error: 2.8799 - val_loss: 2.7626 - val_mean_absolute_error: 2.7626\n",
      "Epoch 78/256\n",
      "241/241 [==============================] - 1s 3ms/step - loss: 3.1273 - mean_absolute_error: 3.1273 - val_loss: 4.1235 - val_mean_absolute_error: 4.1235\n",
      "Epoch 79/256\n",
      "241/241 [==============================] - 1s 3ms/step - loss: 2.9208 - mean_absolute_error: 2.9208 - val_loss: 3.1639 - val_mean_absolute_error: 3.1639\n",
      "Epoch 80/256\n",
      "241/241 [==============================] - 1s 3ms/step - loss: 2.7116 - mean_absolute_error: 2.7116 - val_loss: 2.2271 - val_mean_absolute_error: 2.2271\n",
      "Epoch 81/256\n",
      "241/241 [==============================] - 1s 3ms/step - loss: 2.8837 - mean_absolute_error: 2.8837 - val_loss: 2.6830 - val_mean_absolute_error: 2.6830\n",
      "Epoch 82/256\n",
      "241/241 [==============================] - 1s 3ms/step - loss: 2.9530 - mean_absolute_error: 2.9530 - val_loss: 2.3410 - val_mean_absolute_error: 2.3410\n",
      "Epoch 83/256\n",
      "241/241 [==============================] - 1s 5ms/step - loss: 3.0022 - mean_absolute_error: 3.0022 - val_loss: 2.1784 - val_mean_absolute_error: 2.1784\n",
      "Epoch 84/256\n",
      "241/241 [==============================] - 1s 4ms/step - loss: 2.7892 - mean_absolute_error: 2.7892 - val_loss: 2.5378 - val_mean_absolute_error: 2.5378\n",
      "Epoch 85/256\n",
      "241/241 [==============================] - 1s 3ms/step - loss: 2.9718 - mean_absolute_error: 2.9718 - val_loss: 2.2859 - val_mean_absolute_error: 2.2859\n",
      "Epoch 86/256\n",
      "241/241 [==============================] - 1s 3ms/step - loss: 2.6643 - mean_absolute_error: 2.6643 - val_loss: 2.5068 - val_mean_absolute_error: 2.5068\n",
      "Epoch 87/256\n",
      "241/241 [==============================] - 1s 3ms/step - loss: 2.8106 - mean_absolute_error: 2.8106 - val_loss: 3.9397 - val_mean_absolute_error: 3.9397\n",
      "Epoch 88/256\n",
      "241/241 [==============================] - 1s 3ms/step - loss: 2.9043 - mean_absolute_error: 2.9043 - val_loss: 2.3863 - val_mean_absolute_error: 2.3863\n",
      "Epoch 89/256\n",
      "241/241 [==============================] - 1s 3ms/step - loss: 2.9829 - mean_absolute_error: 2.9829 - val_loss: 2.4904 - val_mean_absolute_error: 2.4904\n",
      "Epoch 90/256\n",
      "241/241 [==============================] - 1s 3ms/step - loss: 2.8544 - mean_absolute_error: 2.8544 - val_loss: 3.1439 - val_mean_absolute_error: 3.1439\n",
      "Epoch 91/256\n",
      "241/241 [==============================] - 1s 3ms/step - loss: 2.8260 - mean_absolute_error: 2.8260 - val_loss: 2.3835 - val_mean_absolute_error: 2.3835\n",
      "Epoch 92/256\n",
      "241/241 [==============================] - 1s 3ms/step - loss: 2.8278 - mean_absolute_error: 2.8278 - val_loss: 2.7797 - val_mean_absolute_error: 2.7797\n",
      "Epoch 93/256\n",
      "241/241 [==============================] - 1s 3ms/step - loss: 2.7090 - mean_absolute_error: 2.7090 - val_loss: 2.8488 - val_mean_absolute_error: 2.8488\n",
      "Epoch 94/256\n",
      "241/241 [==============================] - 1s 3ms/step - loss: 2.8890 - mean_absolute_error: 2.8890 - val_loss: 2.9513 - val_mean_absolute_error: 2.9513\n",
      "Epoch 95/256\n",
      "241/241 [==============================] - 1s 3ms/step - loss: 2.7452 - mean_absolute_error: 2.7452 - val_loss: 2.3652 - val_mean_absolute_error: 2.3652\n",
      "Epoch 96/256\n",
      "241/241 [==============================] - 1s 3ms/step - loss: 2.8160 - mean_absolute_error: 2.8160 - val_loss: 2.5604 - val_mean_absolute_error: 2.5604\n",
      "Epoch 97/256\n",
      "241/241 [==============================] - 1s 3ms/step - loss: 2.9049 - mean_absolute_error: 2.9049 - val_loss: 2.2624 - val_mean_absolute_error: 2.2624\n",
      "Epoch 98/256\n",
      "241/241 [==============================] - 1s 3ms/step - loss: 2.7383 - mean_absolute_error: 2.7383 - val_loss: 2.2677 - val_mean_absolute_error: 2.2677\n",
      "Epoch 99/256\n",
      "241/241 [==============================] - 1s 3ms/step - loss: 2.7964 - mean_absolute_error: 2.7964 - val_loss: 2.5732 - val_mean_absolute_error: 2.5732\n",
      "Epoch 100/256\n",
      "241/241 [==============================] - 1s 3ms/step - loss: 3.1109 - mean_absolute_error: 3.1109 - val_loss: 2.9426 - val_mean_absolute_error: 2.9426\n",
      "Epoch 101/256\n",
      "241/241 [==============================] - 1s 3ms/step - loss: 2.9167 - mean_absolute_error: 2.9167 - val_loss: 2.2531 - val_mean_absolute_error: 2.2531\n",
      "Epoch 102/256\n",
      "241/241 [==============================] - 1s 3ms/step - loss: 2.8176 - mean_absolute_error: 2.8176 - val_loss: 2.5984 - val_mean_absolute_error: 2.5984\n",
      "Epoch 103/256\n",
      "241/241 [==============================] - 1s 3ms/step - loss: 2.5923 - mean_absolute_error: 2.5923 - val_loss: 2.9265 - val_mean_absolute_error: 2.9265\n",
      "Epoch 104/256\n",
      "241/241 [==============================] - 1s 3ms/step - loss: 2.8288 - mean_absolute_error: 2.8288 - val_loss: 3.1207 - val_mean_absolute_error: 3.1207\n",
      "Epoch 105/256\n",
      "241/241 [==============================] - 1s 3ms/step - loss: 2.7125 - mean_absolute_error: 2.7125 - val_loss: 2.7158 - val_mean_absolute_error: 2.7158\n",
      "Epoch 106/256\n",
      "241/241 [==============================] - 1s 3ms/step - loss: 2.7379 - mean_absolute_error: 2.7379 - val_loss: 2.2135 - val_mean_absolute_error: 2.2135\n",
      "Epoch 107/256\n",
      "241/241 [==============================] - 1s 3ms/step - loss: 2.8101 - mean_absolute_error: 2.8101 - val_loss: 2.2235 - val_mean_absolute_error: 2.2235\n",
      "Epoch 108/256\n",
      "241/241 [==============================] - 1s 3ms/step - loss: 2.7562 - mean_absolute_error: 2.7562 - val_loss: 2.2385 - val_mean_absolute_error: 2.2385\n",
      "Epoch 109/256\n",
      "241/241 [==============================] - 1s 3ms/step - loss: 2.7039 - mean_absolute_error: 2.7039 - val_loss: 2.8611 - val_mean_absolute_error: 2.8611\n",
      "Epoch 110/256\n",
      "241/241 [==============================] - 1s 3ms/step - loss: 2.7150 - mean_absolute_error: 2.7150 - val_loss: 2.7233 - val_mean_absolute_error: 2.7233\n",
      "Epoch 111/256\n",
      "241/241 [==============================] - 1s 3ms/step - loss: 2.6406 - mean_absolute_error: 2.6406 - val_loss: 2.1644 - val_mean_absolute_error: 2.1644\n",
      "Epoch 112/256\n",
      "241/241 [==============================] - 1s 3ms/step - loss: 2.7525 - mean_absolute_error: 2.7525 - val_loss: 2.1960 - val_mean_absolute_error: 2.1960\n",
      "Epoch 113/256\n",
      "241/241 [==============================] - 1s 3ms/step - loss: 2.6405 - mean_absolute_error: 2.6405 - val_loss: 2.0868 - val_mean_absolute_error: 2.0868\n",
      "Epoch 114/256\n",
      "241/241 [==============================] - 1s 3ms/step - loss: 3.0213 - mean_absolute_error: 3.0213 - val_loss: 2.6634 - val_mean_absolute_error: 2.6634\n",
      "Epoch 115/256\n",
      "241/241 [==============================] - 1s 3ms/step - loss: 2.9204 - mean_absolute_error: 2.9204 - val_loss: 2.4170 - val_mean_absolute_error: 2.4170\n",
      "Epoch 116/256\n",
      "241/241 [==============================] - 1s 3ms/step - loss: 2.8087 - mean_absolute_error: 2.8087 - val_loss: 2.5909 - val_mean_absolute_error: 2.5909\n",
      "Epoch 117/256\n",
      "241/241 [==============================] - 1s 3ms/step - loss: 2.8769 - mean_absolute_error: 2.8769 - val_loss: 2.9589 - val_mean_absolute_error: 2.9589\n",
      "Epoch 118/256\n",
      "241/241 [==============================] - 1s 3ms/step - loss: 2.6992 - mean_absolute_error: 2.6992 - val_loss: 2.3612 - val_mean_absolute_error: 2.3612\n",
      "Epoch 119/256\n",
      "241/241 [==============================] - 1s 3ms/step - loss: 2.6794 - mean_absolute_error: 2.6794 - val_loss: 2.3056 - val_mean_absolute_error: 2.3056\n",
      "Epoch 120/256\n",
      "241/241 [==============================] - 1s 3ms/step - loss: 2.7356 - mean_absolute_error: 2.7356 - val_loss: 2.8429 - val_mean_absolute_error: 2.8429\n",
      "Epoch 121/256\n",
      "241/241 [==============================] - 1s 3ms/step - loss: 2.6379 - mean_absolute_error: 2.6379 - val_loss: 2.1311 - val_mean_absolute_error: 2.1311\n",
      "Epoch 122/256\n",
      "241/241 [==============================] - 1s 3ms/step - loss: 2.7765 - mean_absolute_error: 2.7765 - val_loss: 2.5338 - val_mean_absolute_error: 2.5338\n",
      "Epoch 123/256\n",
      "241/241 [==============================] - 1s 3ms/step - loss: 2.6681 - mean_absolute_error: 2.6681 - val_loss: 2.5716 - val_mean_absolute_error: 2.5716\n",
      "Epoch 124/256\n",
      "241/241 [==============================] - 1s 4ms/step - loss: 2.7361 - mean_absolute_error: 2.7361 - val_loss: 2.6379 - val_mean_absolute_error: 2.6379\n",
      "Epoch 125/256\n",
      "241/241 [==============================] - 1s 3ms/step - loss: 2.6798 - mean_absolute_error: 2.6798 - val_loss: 2.4736 - val_mean_absolute_error: 2.4736\n",
      "Epoch 126/256\n",
      "241/241 [==============================] - 1s 2ms/step - loss: 2.5498 - mean_absolute_error: 2.5498 - val_loss: 2.9621 - val_mean_absolute_error: 2.9621\n",
      "Epoch 127/256\n",
      "241/241 [==============================] - 1s 3ms/step - loss: 2.7307 - mean_absolute_error: 2.7307 - val_loss: 2.6094 - val_mean_absolute_error: 2.6094\n",
      "Epoch 128/256\n",
      "241/241 [==============================] - 1s 3ms/step - loss: 2.8128 - mean_absolute_error: 2.8128 - val_loss: 4.0031 - val_mean_absolute_error: 4.0031\n",
      "Epoch 129/256\n",
      "241/241 [==============================] - 1s 3ms/step - loss: 2.6814 - mean_absolute_error: 2.6814 - val_loss: 2.2948 - val_mean_absolute_error: 2.2948\n",
      "Epoch 130/256\n",
      "241/241 [==============================] - 1s 3ms/step - loss: 2.6583 - mean_absolute_error: 2.6583 - val_loss: 2.3832 - val_mean_absolute_error: 2.3832\n",
      "Epoch 131/256\n",
      "241/241 [==============================] - 1s 3ms/step - loss: 2.7342 - mean_absolute_error: 2.7342 - val_loss: 2.2148 - val_mean_absolute_error: 2.2148\n",
      "Epoch 132/256\n",
      "241/241 [==============================] - 1s 3ms/step - loss: 2.8772 - mean_absolute_error: 2.8772 - val_loss: 2.2735 - val_mean_absolute_error: 2.2735\n",
      "Epoch 133/256\n",
      "241/241 [==============================] - 1s 3ms/step - loss: 2.6732 - mean_absolute_error: 2.6732 - val_loss: 2.9803 - val_mean_absolute_error: 2.9803\n",
      "Epoch 134/256\n",
      "241/241 [==============================] - 1s 3ms/step - loss: 2.6906 - mean_absolute_error: 2.6906 - val_loss: 2.6013 - val_mean_absolute_error: 2.6013\n",
      "Epoch 135/256\n",
      "241/241 [==============================] - 1s 3ms/step - loss: 2.6388 - mean_absolute_error: 2.6388 - val_loss: 2.7796 - val_mean_absolute_error: 2.7796\n",
      "Epoch 136/256\n",
      "241/241 [==============================] - 1s 3ms/step - loss: 2.9062 - mean_absolute_error: 2.9062 - val_loss: 2.8151 - val_mean_absolute_error: 2.8151\n",
      "Epoch 137/256\n",
      "241/241 [==============================] - 1s 3ms/step - loss: 2.6522 - mean_absolute_error: 2.6522 - val_loss: 2.5093 - val_mean_absolute_error: 2.5093\n",
      "Epoch 138/256\n",
      "241/241 [==============================] - 1s 3ms/step - loss: 2.9279 - mean_absolute_error: 2.9279 - val_loss: 3.4921 - val_mean_absolute_error: 3.4921\n",
      "Epoch 139/256\n",
      "241/241 [==============================] - 1s 3ms/step - loss: 2.6908 - mean_absolute_error: 2.6908 - val_loss: 4.7384 - val_mean_absolute_error: 4.7384\n",
      "Epoch 140/256\n",
      "241/241 [==============================] - 1s 3ms/step - loss: 3.1208 - mean_absolute_error: 3.1208 - val_loss: 2.6411 - val_mean_absolute_error: 2.6411\n",
      "Epoch 141/256\n",
      "241/241 [==============================] - 1s 3ms/step - loss: 2.5900 - mean_absolute_error: 2.5900 - val_loss: 3.4989 - val_mean_absolute_error: 3.4989\n",
      "Epoch 142/256\n",
      "241/241 [==============================] - 1s 2ms/step - loss: 2.7249 - mean_absolute_error: 2.7249 - val_loss: 3.1601 - val_mean_absolute_error: 3.1601\n",
      "Epoch 143/256\n",
      "241/241 [==============================] - 1s 3ms/step - loss: 2.6209 - mean_absolute_error: 2.6209 - val_loss: 2.3041 - val_mean_absolute_error: 2.3041\n",
      "Epoch 144/256\n",
      "241/241 [==============================] - 1s 3ms/step - loss: 2.5856 - mean_absolute_error: 2.5856 - val_loss: 2.3454 - val_mean_absolute_error: 2.3454\n",
      "Epoch 145/256\n",
      "241/241 [==============================] - 1s 3ms/step - loss: 2.5620 - mean_absolute_error: 2.5620 - val_loss: 2.1419 - val_mean_absolute_error: 2.1419\n",
      "Epoch 146/256\n",
      "241/241 [==============================] - 1s 3ms/step - loss: 2.7459 - mean_absolute_error: 2.7459 - val_loss: 2.5116 - val_mean_absolute_error: 2.5116\n",
      "Epoch 147/256\n",
      "241/241 [==============================] - 1s 3ms/step - loss: 2.6286 - mean_absolute_error: 2.6286 - val_loss: 2.0425 - val_mean_absolute_error: 2.0425\n",
      "Epoch 148/256\n",
      "241/241 [==============================] - 1s 3ms/step - loss: 2.6741 - mean_absolute_error: 2.6741 - val_loss: 2.0622 - val_mean_absolute_error: 2.0622\n",
      "Epoch 149/256\n",
      "241/241 [==============================] - 1s 3ms/step - loss: 2.6888 - mean_absolute_error: 2.6888 - val_loss: 2.7615 - val_mean_absolute_error: 2.7615\n",
      "Epoch 150/256\n",
      "241/241 [==============================] - 1s 3ms/step - loss: 2.6414 - mean_absolute_error: 2.6414 - val_loss: 3.2897 - val_mean_absolute_error: 3.2897\n",
      "Epoch 151/256\n",
      "241/241 [==============================] - 1s 3ms/step - loss: 2.8359 - mean_absolute_error: 2.8359 - val_loss: 2.8025 - val_mean_absolute_error: 2.8025\n",
      "Epoch 152/256\n",
      "241/241 [==============================] - 1s 3ms/step - loss: 2.6836 - mean_absolute_error: 2.6836 - val_loss: 2.6008 - val_mean_absolute_error: 2.6008\n",
      "Epoch 153/256\n",
      "241/241 [==============================] - 1s 3ms/step - loss: 2.6014 - mean_absolute_error: 2.6014 - val_loss: 2.2297 - val_mean_absolute_error: 2.2297\n",
      "Epoch 154/256\n",
      "241/241 [==============================] - 1s 2ms/step - loss: 2.6893 - mean_absolute_error: 2.6893 - val_loss: 2.4322 - val_mean_absolute_error: 2.4322\n",
      "Epoch 155/256\n",
      "241/241 [==============================] - 1s 3ms/step - loss: 2.5179 - mean_absolute_error: 2.5179 - val_loss: 2.3566 - val_mean_absolute_error: 2.3566\n",
      "Epoch 156/256\n",
      "241/241 [==============================] - 1s 3ms/step - loss: 2.5844 - mean_absolute_error: 2.5844 - val_loss: 2.2891 - val_mean_absolute_error: 2.2891\n",
      "Epoch 157/256\n",
      "241/241 [==============================] - 1s 3ms/step - loss: 2.6164 - mean_absolute_error: 2.6164 - val_loss: 2.1975 - val_mean_absolute_error: 2.1975\n",
      "Epoch 158/256\n",
      "241/241 [==============================] - 1s 3ms/step - loss: 2.5831 - mean_absolute_error: 2.5831 - val_loss: 2.1403 - val_mean_absolute_error: 2.1403\n",
      "Epoch 159/256\n",
      "241/241 [==============================] - 1s 3ms/step - loss: 2.6433 - mean_absolute_error: 2.6433 - val_loss: 3.3474 - val_mean_absolute_error: 3.3474\n",
      "Epoch 160/256\n",
      "241/241 [==============================] - 1s 2ms/step - loss: 2.6208 - mean_absolute_error: 2.6208 - val_loss: 2.4823 - val_mean_absolute_error: 2.4823\n",
      "Epoch 161/256\n",
      "241/241 [==============================] - 1s 3ms/step - loss: 2.5702 - mean_absolute_error: 2.5702 - val_loss: 2.8542 - val_mean_absolute_error: 2.8542\n",
      "Epoch 162/256\n",
      "241/241 [==============================] - 1s 3ms/step - loss: 2.6234 - mean_absolute_error: 2.6234 - val_loss: 2.5220 - val_mean_absolute_error: 2.5220\n",
      "Epoch 163/256\n",
      "241/241 [==============================] - 1s 3ms/step - loss: 2.5975 - mean_absolute_error: 2.5975 - val_loss: 2.2120 - val_mean_absolute_error: 2.2120\n",
      "Epoch 164/256\n",
      "241/241 [==============================] - 1s 3ms/step - loss: 2.4971 - mean_absolute_error: 2.4971 - val_loss: 2.0839 - val_mean_absolute_error: 2.0839\n",
      "Epoch 165/256\n",
      "241/241 [==============================] - 1s 3ms/step - loss: 2.5357 - mean_absolute_error: 2.5357 - val_loss: 2.2994 - val_mean_absolute_error: 2.2994\n",
      "Epoch 166/256\n",
      "241/241 [==============================] - 1s 3ms/step - loss: 2.5930 - mean_absolute_error: 2.5930 - val_loss: 2.4259 - val_mean_absolute_error: 2.4259\n",
      "Epoch 167/256\n",
      "241/241 [==============================] - 1s 3ms/step - loss: 2.7624 - mean_absolute_error: 2.7624 - val_loss: 2.5923 - val_mean_absolute_error: 2.5923\n",
      "Epoch 168/256\n",
      "241/241 [==============================] - 1s 3ms/step - loss: 2.4803 - mean_absolute_error: 2.4803 - val_loss: 2.0453 - val_mean_absolute_error: 2.0453\n",
      "Epoch 169/256\n",
      "241/241 [==============================] - 1s 3ms/step - loss: 2.4173 - mean_absolute_error: 2.4173 - val_loss: 2.3071 - val_mean_absolute_error: 2.3071\n",
      "Epoch 170/256\n",
      "241/241 [==============================] - 1s 3ms/step - loss: 2.6344 - mean_absolute_error: 2.6344 - val_loss: 3.1351 - val_mean_absolute_error: 3.1351\n",
      "Epoch 171/256\n",
      "241/241 [==============================] - 1s 2ms/step - loss: 2.7223 - mean_absolute_error: 2.7223 - val_loss: 3.0882 - val_mean_absolute_error: 3.0882\n",
      "Epoch 172/256\n",
      "241/241 [==============================] - 1s 3ms/step - loss: 2.7743 - mean_absolute_error: 2.7743 - val_loss: 2.9479 - val_mean_absolute_error: 2.9479\n",
      "Epoch 173/256\n",
      "241/241 [==============================] - 1s 3ms/step - loss: 2.4934 - mean_absolute_error: 2.4934 - val_loss: 2.4378 - val_mean_absolute_error: 2.4378\n",
      "Epoch 174/256\n",
      "241/241 [==============================] - 1s 3ms/step - loss: 2.6483 - mean_absolute_error: 2.6483 - val_loss: 2.0942 - val_mean_absolute_error: 2.0942\n",
      "Epoch 175/256\n",
      "241/241 [==============================] - 1s 3ms/step - loss: 2.4058 - mean_absolute_error: 2.4058 - val_loss: 2.9021 - val_mean_absolute_error: 2.9021\n",
      "Epoch 176/256\n",
      "241/241 [==============================] - 1s 3ms/step - loss: 2.5394 - mean_absolute_error: 2.5394 - val_loss: 2.2716 - val_mean_absolute_error: 2.2716\n",
      "Epoch 177/256\n",
      "241/241 [==============================] - 1s 3ms/step - loss: 2.4238 - mean_absolute_error: 2.4238 - val_loss: 3.0437 - val_mean_absolute_error: 3.0437\n",
      "Epoch 178/256\n",
      "241/241 [==============================] - 1s 3ms/step - loss: 2.5742 - mean_absolute_error: 2.5742 - val_loss: 2.3649 - val_mean_absolute_error: 2.3649\n",
      "Epoch 179/256\n",
      "241/241 [==============================] - 1s 3ms/step - loss: 2.4822 - mean_absolute_error: 2.4822 - val_loss: 2.5995 - val_mean_absolute_error: 2.5995\n",
      "Epoch 180/256\n",
      "241/241 [==============================] - 1s 3ms/step - loss: 2.3574 - mean_absolute_error: 2.3574 - val_loss: 2.2254 - val_mean_absolute_error: 2.2254\n",
      "Epoch 181/256\n",
      "241/241 [==============================] - 1s 3ms/step - loss: 2.6085 - mean_absolute_error: 2.6085 - val_loss: 2.1483 - val_mean_absolute_error: 2.1483\n",
      "Epoch 182/256\n",
      "241/241 [==============================] - 1s 3ms/step - loss: 2.4783 - mean_absolute_error: 2.4783 - val_loss: 2.2830 - val_mean_absolute_error: 2.2830\n",
      "Epoch 183/256\n",
      "241/241 [==============================] - 1s 3ms/step - loss: 2.5765 - mean_absolute_error: 2.5765 - val_loss: 2.3190 - val_mean_absolute_error: 2.3190\n",
      "Epoch 184/256\n",
      "241/241 [==============================] - 1s 3ms/step - loss: 2.5369 - mean_absolute_error: 2.5369 - val_loss: 3.0627 - val_mean_absolute_error: 3.0627\n",
      "Epoch 185/256\n",
      "241/241 [==============================] - 1s 3ms/step - loss: 2.5917 - mean_absolute_error: 2.5917 - val_loss: 3.4310 - val_mean_absolute_error: 3.4310\n",
      "Epoch 186/256\n",
      "241/241 [==============================] - 1s 3ms/step - loss: 2.5039 - mean_absolute_error: 2.5039 - val_loss: 2.1328 - val_mean_absolute_error: 2.1328\n",
      "Epoch 187/256\n",
      "241/241 [==============================] - 1s 3ms/step - loss: 2.6957 - mean_absolute_error: 2.6957 - val_loss: 2.3596 - val_mean_absolute_error: 2.3596\n",
      "Epoch 188/256\n",
      "241/241 [==============================] - 1s 2ms/step - loss: 2.4338 - mean_absolute_error: 2.4338 - val_loss: 2.3637 - val_mean_absolute_error: 2.3637\n",
      "Epoch 189/256\n",
      "241/241 [==============================] - 1s 3ms/step - loss: 2.6228 - mean_absolute_error: 2.6228 - val_loss: 2.2538 - val_mean_absolute_error: 2.2538\n",
      "Epoch 190/256\n",
      "241/241 [==============================] - 1s 3ms/step - loss: 2.5897 - mean_absolute_error: 2.5897 - val_loss: 2.0384 - val_mean_absolute_error: 2.0384\n",
      "Epoch 191/256\n",
      "241/241 [==============================] - 1s 3ms/step - loss: 2.5201 - mean_absolute_error: 2.5201 - val_loss: 3.1217 - val_mean_absolute_error: 3.1217\n",
      "Epoch 192/256\n",
      "241/241 [==============================] - 1s 3ms/step - loss: 2.6339 - mean_absolute_error: 2.6339 - val_loss: 2.7368 - val_mean_absolute_error: 2.7368\n",
      "Epoch 193/256\n",
      "241/241 [==============================] - 1s 3ms/step - loss: 2.5399 - mean_absolute_error: 2.5399 - val_loss: 2.7991 - val_mean_absolute_error: 2.7991\n",
      "Epoch 194/256\n",
      "241/241 [==============================] - 1s 3ms/step - loss: 2.4977 - mean_absolute_error: 2.4977 - val_loss: 2.6356 - val_mean_absolute_error: 2.6356\n",
      "Epoch 195/256\n",
      "241/241 [==============================] - 1s 3ms/step - loss: 2.5773 - mean_absolute_error: 2.5773 - val_loss: 2.4401 - val_mean_absolute_error: 2.4401\n",
      "Epoch 196/256\n",
      "241/241 [==============================] - 1s 3ms/step - loss: 2.5639 - mean_absolute_error: 2.5639 - val_loss: 2.3495 - val_mean_absolute_error: 2.3495\n",
      "Epoch 197/256\n",
      "241/241 [==============================] - 1s 3ms/step - loss: 2.5180 - mean_absolute_error: 2.5180 - val_loss: 2.3670 - val_mean_absolute_error: 2.3670\n",
      "Epoch 198/256\n",
      "241/241 [==============================] - 1s 3ms/step - loss: 2.4317 - mean_absolute_error: 2.4317 - val_loss: 2.7928 - val_mean_absolute_error: 2.7928\n",
      "Epoch 199/256\n",
      "241/241 [==============================] - 1s 3ms/step - loss: 2.3682 - mean_absolute_error: 2.3682 - val_loss: 3.0732 - val_mean_absolute_error: 3.0732\n",
      "Epoch 200/256\n",
      "241/241 [==============================] - 1s 3ms/step - loss: 2.6671 - mean_absolute_error: 2.6671 - val_loss: 2.4142 - val_mean_absolute_error: 2.4142\n",
      "Epoch 201/256\n",
      "241/241 [==============================] - 1s 3ms/step - loss: 2.4283 - mean_absolute_error: 2.4283 - val_loss: 2.7380 - val_mean_absolute_error: 2.7380\n",
      "Epoch 202/256\n",
      "241/241 [==============================] - 1s 3ms/step - loss: 2.5570 - mean_absolute_error: 2.5570 - val_loss: 2.3077 - val_mean_absolute_error: 2.3077\n",
      "Epoch 203/256\n",
      "241/241 [==============================] - 1s 3ms/step - loss: 2.5016 - mean_absolute_error: 2.5016 - val_loss: 2.8022 - val_mean_absolute_error: 2.8022\n",
      "Epoch 204/256\n",
      "241/241 [==============================] - 1s 3ms/step - loss: 2.5626 - mean_absolute_error: 2.5626 - val_loss: 3.8125 - val_mean_absolute_error: 3.8125\n",
      "Epoch 205/256\n",
      "241/241 [==============================] - 1s 3ms/step - loss: 2.6043 - mean_absolute_error: 2.6043 - val_loss: 2.0380 - val_mean_absolute_error: 2.0380\n",
      "Epoch 206/256\n",
      "241/241 [==============================] - 1s 3ms/step - loss: 2.7133 - mean_absolute_error: 2.7133 - val_loss: 2.8798 - val_mean_absolute_error: 2.8798\n",
      "Epoch 207/256\n",
      "241/241 [==============================] - 1s 3ms/step - loss: 2.4447 - mean_absolute_error: 2.4447 - val_loss: 2.2388 - val_mean_absolute_error: 2.2388\n",
      "Epoch 208/256\n",
      "241/241 [==============================] - 1s 3ms/step - loss: 2.5624 - mean_absolute_error: 2.5624 - val_loss: 2.2620 - val_mean_absolute_error: 2.2620\n",
      "Epoch 209/256\n",
      "241/241 [==============================] - 1s 3ms/step - loss: 2.4357 - mean_absolute_error: 2.4357 - val_loss: 2.5025 - val_mean_absolute_error: 2.5025\n",
      "Epoch 210/256\n",
      "241/241 [==============================] - 1s 3ms/step - loss: 2.4592 - mean_absolute_error: 2.4592 - val_loss: 2.8329 - val_mean_absolute_error: 2.8329\n",
      "Epoch 211/256\n",
      "241/241 [==============================] - 1s 3ms/step - loss: 2.6076 - mean_absolute_error: 2.6076 - val_loss: 2.6687 - val_mean_absolute_error: 2.6687\n",
      "Epoch 212/256\n",
      "241/241 [==============================] - 1s 3ms/step - loss: 2.3584 - mean_absolute_error: 2.3584 - val_loss: 2.4149 - val_mean_absolute_error: 2.4149\n",
      "Epoch 213/256\n",
      "241/241 [==============================] - 1s 3ms/step - loss: 2.3236 - mean_absolute_error: 2.3236 - val_loss: 2.4218 - val_mean_absolute_error: 2.4218\n",
      "Epoch 214/256\n",
      "241/241 [==============================] - 1s 3ms/step - loss: 2.4531 - mean_absolute_error: 2.4531 - val_loss: 2.6730 - val_mean_absolute_error: 2.6730\n",
      "Epoch 215/256\n",
      "241/241 [==============================] - 1s 3ms/step - loss: 2.4488 - mean_absolute_error: 2.4488 - val_loss: 2.2847 - val_mean_absolute_error: 2.2847\n",
      "Epoch 216/256\n",
      "241/241 [==============================] - 1s 3ms/step - loss: 2.4863 - mean_absolute_error: 2.4863 - val_loss: 2.4041 - val_mean_absolute_error: 2.4041\n",
      "Epoch 217/256\n",
      "241/241 [==============================] - 1s 3ms/step - loss: 2.6277 - mean_absolute_error: 2.6277 - val_loss: 2.5869 - val_mean_absolute_error: 2.5869\n",
      "Epoch 218/256\n",
      "241/241 [==============================] - 1s 3ms/step - loss: 2.4682 - mean_absolute_error: 2.4682 - val_loss: 2.1407 - val_mean_absolute_error: 2.1407\n",
      "Epoch 219/256\n",
      "241/241 [==============================] - 1s 2ms/step - loss: 2.6264 - mean_absolute_error: 2.6264 - val_loss: 1.9918 - val_mean_absolute_error: 1.9918\n",
      "Epoch 220/256\n",
      "241/241 [==============================] - 1s 3ms/step - loss: 2.5285 - mean_absolute_error: 2.5285 - val_loss: 2.3219 - val_mean_absolute_error: 2.3219\n",
      "Epoch 221/256\n",
      "241/241 [==============================] - 1s 3ms/step - loss: 2.3956 - mean_absolute_error: 2.3956 - val_loss: 2.2459 - val_mean_absolute_error: 2.2459\n",
      "Epoch 222/256\n",
      "241/241 [==============================] - 1s 3ms/step - loss: 2.3981 - mean_absolute_error: 2.3981 - val_loss: 2.1503 - val_mean_absolute_error: 2.1503\n",
      "Epoch 223/256\n",
      "241/241 [==============================] - 1s 3ms/step - loss: 2.4719 - mean_absolute_error: 2.4719 - val_loss: 2.5081 - val_mean_absolute_error: 2.5081\n",
      "Epoch 224/256\n",
      "241/241 [==============================] - 1s 3ms/step - loss: 2.4282 - mean_absolute_error: 2.4282 - val_loss: 2.7578 - val_mean_absolute_error: 2.7578\n",
      "Epoch 225/256\n",
      "241/241 [==============================] - 1s 2ms/step - loss: 2.5459 - mean_absolute_error: 2.5459 - val_loss: 2.1611 - val_mean_absolute_error: 2.1611\n",
      "Epoch 226/256\n",
      "241/241 [==============================] - 1s 3ms/step - loss: 2.4758 - mean_absolute_error: 2.4758 - val_loss: 2.2963 - val_mean_absolute_error: 2.2963\n",
      "Epoch 227/256\n",
      "241/241 [==============================] - 1s 3ms/step - loss: 2.5558 - mean_absolute_error: 2.5558 - val_loss: 2.3851 - val_mean_absolute_error: 2.3851\n",
      "Epoch 228/256\n",
      "241/241 [==============================] - 1s 3ms/step - loss: 2.4730 - mean_absolute_error: 2.4730 - val_loss: 2.2249 - val_mean_absolute_error: 2.2249\n",
      "Epoch 229/256\n",
      "241/241 [==============================] - 1s 2ms/step - loss: 2.4378 - mean_absolute_error: 2.4378 - val_loss: 2.0111 - val_mean_absolute_error: 2.0111\n",
      "Epoch 230/256\n",
      "241/241 [==============================] - 1s 3ms/step - loss: 2.4134 - mean_absolute_error: 2.4134 - val_loss: 2.2508 - val_mean_absolute_error: 2.2508\n",
      "Epoch 231/256\n",
      "241/241 [==============================] - 1s 3ms/step - loss: 2.4268 - mean_absolute_error: 2.4268 - val_loss: 2.5900 - val_mean_absolute_error: 2.5900\n",
      "Epoch 232/256\n",
      "241/241 [==============================] - 1s 3ms/step - loss: 2.4184 - mean_absolute_error: 2.4184 - val_loss: 2.8609 - val_mean_absolute_error: 2.8609\n",
      "Epoch 233/256\n",
      "241/241 [==============================] - 1s 3ms/step - loss: 2.5222 - mean_absolute_error: 2.5222 - val_loss: 2.3532 - val_mean_absolute_error: 2.3532\n",
      "Epoch 234/256\n",
      "241/241 [==============================] - 1s 3ms/step - loss: 2.6092 - mean_absolute_error: 2.6092 - val_loss: 1.9976 - val_mean_absolute_error: 1.9976\n",
      "Epoch 235/256\n",
      "241/241 [==============================] - 1s 3ms/step - loss: 2.4507 - mean_absolute_error: 2.4507 - val_loss: 2.7850 - val_mean_absolute_error: 2.7850\n",
      "Epoch 236/256\n",
      "241/241 [==============================] - 1s 3ms/step - loss: 2.4601 - mean_absolute_error: 2.4601 - val_loss: 1.9980 - val_mean_absolute_error: 1.9980\n",
      "Epoch 237/256\n",
      "241/241 [==============================] - 1s 3ms/step - loss: 2.5634 - mean_absolute_error: 2.5634 - val_loss: 3.1950 - val_mean_absolute_error: 3.1950\n",
      "Epoch 238/256\n",
      "241/241 [==============================] - 1s 3ms/step - loss: 2.5660 - mean_absolute_error: 2.5660 - val_loss: 1.8917 - val_mean_absolute_error: 1.8917\n",
      "Epoch 239/256\n",
      "241/241 [==============================] - 1s 3ms/step - loss: 2.4587 - mean_absolute_error: 2.4587 - val_loss: 2.1870 - val_mean_absolute_error: 2.1870\n",
      "Epoch 240/256\n",
      "241/241 [==============================] - 1s 3ms/step - loss: 2.4099 - mean_absolute_error: 2.4099 - val_loss: 2.1572 - val_mean_absolute_error: 2.1572\n",
      "Epoch 241/256\n",
      "241/241 [==============================] - 1s 3ms/step - loss: 2.4181 - mean_absolute_error: 2.4181 - val_loss: 2.5320 - val_mean_absolute_error: 2.5320\n",
      "Epoch 242/256\n",
      "241/241 [==============================] - 1s 3ms/step - loss: 2.6121 - mean_absolute_error: 2.6121 - val_loss: 2.1498 - val_mean_absolute_error: 2.1498\n",
      "Epoch 243/256\n",
      "241/241 [==============================] - 1s 2ms/step - loss: 2.5542 - mean_absolute_error: 2.5542 - val_loss: 2.3594 - val_mean_absolute_error: 2.3594\n",
      "Epoch 244/256\n",
      "241/241 [==============================] - 1s 3ms/step - loss: 2.4473 - mean_absolute_error: 2.4473 - val_loss: 2.9516 - val_mean_absolute_error: 2.9516\n",
      "Epoch 245/256\n",
      "241/241 [==============================] - 1s 3ms/step - loss: 2.4212 - mean_absolute_error: 2.4212 - val_loss: 2.2580 - val_mean_absolute_error: 2.2580\n",
      "Epoch 246/256\n",
      "241/241 [==============================] - 1s 3ms/step - loss: 2.5575 - mean_absolute_error: 2.5575 - val_loss: 2.2347 - val_mean_absolute_error: 2.2347\n",
      "Epoch 247/256\n",
      "241/241 [==============================] - 1s 3ms/step - loss: 2.4447 - mean_absolute_error: 2.4447 - val_loss: 2.6355 - val_mean_absolute_error: 2.6355\n",
      "Epoch 248/256\n",
      "241/241 [==============================] - 1s 3ms/step - loss: 2.4306 - mean_absolute_error: 2.4306 - val_loss: 2.3998 - val_mean_absolute_error: 2.3998\n",
      "Epoch 249/256\n",
      "241/241 [==============================] - 1s 3ms/step - loss: 2.4259 - mean_absolute_error: 2.4259 - val_loss: 3.4031 - val_mean_absolute_error: 3.4031\n",
      "Epoch 250/256\n",
      "241/241 [==============================] - 1s 3ms/step - loss: 2.4524 - mean_absolute_error: 2.4524 - val_loss: 2.6952 - val_mean_absolute_error: 2.6952\n",
      "Epoch 251/256\n",
      "241/241 [==============================] - 1s 3ms/step - loss: 2.4211 - mean_absolute_error: 2.4211 - val_loss: 3.2549 - val_mean_absolute_error: 3.2549\n",
      "Epoch 252/256\n",
      "142/241 [================>.............] - ETA: 0s - loss: 2.4149 - mean_absolute_error: 2.4149"
     ]
    },
    {
     "ename": "KeyboardInterrupt",
     "evalue": "",
     "output_type": "error",
     "traceback": [
      "\u001b[1;31m---------------------------------------------------------------------------\u001b[0m",
      "\u001b[1;31mKeyboardInterrupt\u001b[0m                         Traceback (most recent call last)",
      "Cell \u001b[1;32mIn[168], line 1\u001b[0m\n\u001b[1;32m----> 1\u001b[0m history3 \u001b[38;5;241m=\u001b[39m \u001b[43mmodel2\u001b[49m\u001b[38;5;241;43m.\u001b[39;49m\u001b[43mfit\u001b[49m\u001b[43m(\u001b[49m\u001b[43mx\u001b[49m\u001b[38;5;241;43m=\u001b[39;49m\u001b[43mscaled_train_samples\u001b[49m\u001b[43m,\u001b[49m\u001b[43m \u001b[49m\u001b[43my\u001b[49m\u001b[38;5;241;43m=\u001b[39;49m\u001b[43mtrain_labels\u001b[49m\u001b[43m,\u001b[49m\u001b[43m \u001b[49m\u001b[43mvalidation_split\u001b[49m\u001b[38;5;241;43m=\u001b[39;49m\u001b[38;5;241;43m0.1\u001b[39;49m\u001b[43m,\u001b[49m\u001b[43m \u001b[49m\u001b[43mbatch_size\u001b[49m\u001b[38;5;241;43m=\u001b[39;49m\u001b[38;5;241;43m10\u001b[39;49m\u001b[43m,\u001b[49m\u001b[43m \u001b[49m\u001b[43mepochs\u001b[49m\u001b[38;5;241;43m=\u001b[39;49m\u001b[38;5;241;43m256\u001b[39;49m\u001b[43m,\u001b[49m\u001b[43m \u001b[49m\u001b[43mshuffle\u001b[49m\u001b[38;5;241;43m=\u001b[39;49m\u001b[38;5;28;43;01mTrue\u001b[39;49;00m\u001b[43m,\u001b[49m\u001b[43m \u001b[49m\u001b[43mverbose\u001b[49m\u001b[38;5;241;43m=\u001b[39;49m\u001b[38;5;241;43m1\u001b[39;49m\u001b[43m)\u001b[49m\n",
      "File \u001b[1;32m~\\AppData\\Local\\Programs\\Python\\Python311\\Lib\\site-packages\\keras\\utils\\traceback_utils.py:65\u001b[0m, in \u001b[0;36mfilter_traceback.<locals>.error_handler\u001b[1;34m(*args, **kwargs)\u001b[0m\n\u001b[0;32m     63\u001b[0m filtered_tb \u001b[38;5;241m=\u001b[39m \u001b[38;5;28;01mNone\u001b[39;00m\n\u001b[0;32m     64\u001b[0m \u001b[38;5;28;01mtry\u001b[39;00m:\n\u001b[1;32m---> 65\u001b[0m     \u001b[38;5;28;01mreturn\u001b[39;00m \u001b[43mfn\u001b[49m\u001b[43m(\u001b[49m\u001b[38;5;241;43m*\u001b[39;49m\u001b[43margs\u001b[49m\u001b[43m,\u001b[49m\u001b[43m \u001b[49m\u001b[38;5;241;43m*\u001b[39;49m\u001b[38;5;241;43m*\u001b[39;49m\u001b[43mkwargs\u001b[49m\u001b[43m)\u001b[49m\n\u001b[0;32m     66\u001b[0m \u001b[38;5;28;01mexcept\u001b[39;00m \u001b[38;5;167;01mException\u001b[39;00m \u001b[38;5;28;01mas\u001b[39;00m e:\n\u001b[0;32m     67\u001b[0m     filtered_tb \u001b[38;5;241m=\u001b[39m _process_traceback_frames(e\u001b[38;5;241m.\u001b[39m__traceback__)\n",
      "File \u001b[1;32m~\\AppData\\Local\\Programs\\Python\\Python311\\Lib\\site-packages\\keras\\engine\\training.py:1676\u001b[0m, in \u001b[0;36mModel.fit\u001b[1;34m(self, x, y, batch_size, epochs, verbose, callbacks, validation_split, validation_data, shuffle, class_weight, sample_weight, initial_epoch, steps_per_epoch, validation_steps, validation_batch_size, validation_freq, max_queue_size, workers, use_multiprocessing)\u001b[0m\n\u001b[0;32m   1674\u001b[0m callbacks\u001b[38;5;241m.\u001b[39mon_epoch_begin(epoch)\n\u001b[0;32m   1675\u001b[0m \u001b[38;5;28;01mwith\u001b[39;00m data_handler\u001b[38;5;241m.\u001b[39mcatch_stop_iteration():\n\u001b[1;32m-> 1676\u001b[0m     \u001b[38;5;28;01mfor\u001b[39;00m step \u001b[38;5;129;01min\u001b[39;00m data_handler\u001b[38;5;241m.\u001b[39msteps():\n\u001b[0;32m   1677\u001b[0m         \u001b[38;5;28;01mwith\u001b[39;00m tf\u001b[38;5;241m.\u001b[39mprofiler\u001b[38;5;241m.\u001b[39mexperimental\u001b[38;5;241m.\u001b[39mTrace(\n\u001b[0;32m   1678\u001b[0m             \u001b[38;5;124m\"\u001b[39m\u001b[38;5;124mtrain\u001b[39m\u001b[38;5;124m\"\u001b[39m,\n\u001b[0;32m   1679\u001b[0m             epoch_num\u001b[38;5;241m=\u001b[39mepoch,\n\u001b[1;32m   (...)\u001b[0m\n\u001b[0;32m   1682\u001b[0m             _r\u001b[38;5;241m=\u001b[39m\u001b[38;5;241m1\u001b[39m,\n\u001b[0;32m   1683\u001b[0m         ):\n\u001b[0;32m   1684\u001b[0m             callbacks\u001b[38;5;241m.\u001b[39mon_train_batch_begin(step)\n",
      "File \u001b[1;32m~\\AppData\\Local\\Programs\\Python\\Python311\\Lib\\site-packages\\keras\\engine\\data_adapter.py:1375\u001b[0m, in \u001b[0;36mDataHandler.steps\u001b[1;34m(self)\u001b[0m\n\u001b[0;32m   1373\u001b[0m \u001b[38;5;28;01mif\u001b[39;00m \u001b[38;5;28mself\u001b[39m\u001b[38;5;241m.\u001b[39m_insufficient_data:  \u001b[38;5;66;03m# Set by `catch_stop_iteration`.\u001b[39;00m\n\u001b[0;32m   1374\u001b[0m     \u001b[38;5;28;01mbreak\u001b[39;00m\n\u001b[1;32m-> 1375\u001b[0m original_spe \u001b[38;5;241m=\u001b[39m \u001b[38;5;28;43mself\u001b[39;49m\u001b[38;5;241;43m.\u001b[39;49m\u001b[43m_steps_per_execution\u001b[49m\u001b[38;5;241;43m.\u001b[39;49m\u001b[43mnumpy\u001b[49m\u001b[43m(\u001b[49m\u001b[43m)\u001b[49m\u001b[38;5;241m.\u001b[39mitem()\n\u001b[0;32m   1376\u001b[0m can_run_full_execution \u001b[38;5;241m=\u001b[39m (\n\u001b[0;32m   1377\u001b[0m     original_spe \u001b[38;5;241m==\u001b[39m \u001b[38;5;241m1\u001b[39m\n\u001b[0;32m   1378\u001b[0m     \u001b[38;5;129;01mor\u001b[39;00m \u001b[38;5;28mself\u001b[39m\u001b[38;5;241m.\u001b[39m_inferred_steps \u001b[38;5;129;01mis\u001b[39;00m \u001b[38;5;28;01mNone\u001b[39;00m\n\u001b[0;32m   1379\u001b[0m     \u001b[38;5;129;01mor\u001b[39;00m \u001b[38;5;28mself\u001b[39m\u001b[38;5;241m.\u001b[39m_inferred_steps \u001b[38;5;241m-\u001b[39m \u001b[38;5;28mself\u001b[39m\u001b[38;5;241m.\u001b[39m_current_step \u001b[38;5;241m>\u001b[39m\u001b[38;5;241m=\u001b[39m original_spe\n\u001b[0;32m   1380\u001b[0m )\n\u001b[0;32m   1382\u001b[0m \u001b[38;5;28;01mif\u001b[39;00m can_run_full_execution:\n",
      "File \u001b[1;32m~\\AppData\\Local\\Programs\\Python\\Python311\\Lib\\site-packages\\tensorflow\\python\\ops\\resource_variable_ops.py:647\u001b[0m, in \u001b[0;36mBaseResourceVariable.numpy\u001b[1;34m(self)\u001b[0m\n\u001b[0;32m    645\u001b[0m \u001b[38;5;28;01mdef\u001b[39;00m \u001b[38;5;21mnumpy\u001b[39m(\u001b[38;5;28mself\u001b[39m):\n\u001b[0;32m    646\u001b[0m   \u001b[38;5;28;01mif\u001b[39;00m context\u001b[38;5;241m.\u001b[39mexecuting_eagerly():\n\u001b[1;32m--> 647\u001b[0m     \u001b[38;5;28;01mreturn\u001b[39;00m \u001b[38;5;28;43mself\u001b[39;49m\u001b[38;5;241;43m.\u001b[39;49m\u001b[43mread_value\u001b[49m\u001b[43m(\u001b[49m\u001b[43m)\u001b[49m\u001b[38;5;241m.\u001b[39mnumpy()\n\u001b[0;32m    648\u001b[0m   \u001b[38;5;28;01mraise\u001b[39;00m \u001b[38;5;167;01mNotImplementedError\u001b[39;00m(\n\u001b[0;32m    649\u001b[0m       \u001b[38;5;124m\"\u001b[39m\u001b[38;5;124mnumpy() is only available when eager execution is enabled.\u001b[39m\u001b[38;5;124m\"\u001b[39m)\n",
      "File \u001b[1;32m~\\AppData\\Local\\Programs\\Python\\Python311\\Lib\\site-packages\\tensorflow\\python\\ops\\resource_variable_ops.py:774\u001b[0m, in \u001b[0;36mBaseResourceVariable.read_value\u001b[1;34m(self)\u001b[0m\n\u001b[0;32m    765\u001b[0m \u001b[38;5;250m\u001b[39m\u001b[38;5;124;03m\"\"\"Constructs an op which reads the value of this variable.\u001b[39;00m\n\u001b[0;32m    766\u001b[0m \n\u001b[0;32m    767\u001b[0m \u001b[38;5;124;03mShould be used when there are multiple reads, or when it is desirable to\u001b[39;00m\n\u001b[1;32m   (...)\u001b[0m\n\u001b[0;32m    771\u001b[0m \u001b[38;5;124;03m  The value of the variable.\u001b[39;00m\n\u001b[0;32m    772\u001b[0m \u001b[38;5;124;03m\"\"\"\u001b[39;00m\n\u001b[0;32m    773\u001b[0m \u001b[38;5;28;01mwith\u001b[39;00m ops\u001b[38;5;241m.\u001b[39mname_scope(\u001b[38;5;124m\"\u001b[39m\u001b[38;5;124mRead\u001b[39m\u001b[38;5;124m\"\u001b[39m):\n\u001b[1;32m--> 774\u001b[0m   value \u001b[38;5;241m=\u001b[39m \u001b[38;5;28;43mself\u001b[39;49m\u001b[38;5;241;43m.\u001b[39;49m\u001b[43m_read_variable_op\u001b[49m\u001b[43m(\u001b[49m\u001b[43m)\u001b[49m\n\u001b[0;32m    775\u001b[0m \u001b[38;5;66;03m# Return an identity so it can get placed on whatever device the context\u001b[39;00m\n\u001b[0;32m    776\u001b[0m \u001b[38;5;66;03m# specifies instead of the device where the variable is.\u001b[39;00m\n\u001b[0;32m    777\u001b[0m \u001b[38;5;28;01mreturn\u001b[39;00m array_ops\u001b[38;5;241m.\u001b[39midentity(value)\n",
      "File \u001b[1;32m~\\AppData\\Local\\Programs\\Python\\Python311\\Lib\\site-packages\\tensorflow\\python\\ops\\resource_variable_ops.py:753\u001b[0m, in \u001b[0;36mBaseResourceVariable._read_variable_op\u001b[1;34m(self, no_copy)\u001b[0m\n\u001b[0;32m    751\u001b[0m       result \u001b[38;5;241m=\u001b[39m read_and_set_handle(no_copy)\n\u001b[0;32m    752\u001b[0m \u001b[38;5;28;01melse\u001b[39;00m:\n\u001b[1;32m--> 753\u001b[0m   result \u001b[38;5;241m=\u001b[39m \u001b[43mread_and_set_handle\u001b[49m\u001b[43m(\u001b[49m\u001b[43mno_copy\u001b[49m\u001b[43m)\u001b[49m\n\u001b[0;32m    755\u001b[0m \u001b[38;5;28;01mif\u001b[39;00m \u001b[38;5;129;01mnot\u001b[39;00m context\u001b[38;5;241m.\u001b[39mexecuting_eagerly():\n\u001b[0;32m    756\u001b[0m   \u001b[38;5;66;03m# Note that if a control flow context is active the input of the read op\u001b[39;00m\n\u001b[0;32m    757\u001b[0m   \u001b[38;5;66;03m# might not actually be the handle. This line bypasses it.\u001b[39;00m\n\u001b[0;32m    758\u001b[0m   tape\u001b[38;5;241m.\u001b[39mrecord_operation(\n\u001b[0;32m    759\u001b[0m       \u001b[38;5;124m\"\u001b[39m\u001b[38;5;124mReadVariableOp\u001b[39m\u001b[38;5;124m\"\u001b[39m, [result], [\u001b[38;5;28mself\u001b[39m\u001b[38;5;241m.\u001b[39mhandle],\n\u001b[0;32m    760\u001b[0m       backward_function\u001b[38;5;241m=\u001b[39m\u001b[38;5;28;01mlambda\u001b[39;00m x: [x],\n\u001b[0;32m    761\u001b[0m       forward_function\u001b[38;5;241m=\u001b[39m\u001b[38;5;28;01mlambda\u001b[39;00m x: [x])\n",
      "File \u001b[1;32m~\\AppData\\Local\\Programs\\Python\\Python311\\Lib\\site-packages\\tensorflow\\python\\ops\\resource_variable_ops.py:743\u001b[0m, in \u001b[0;36mBaseResourceVariable._read_variable_op.<locals>.read_and_set_handle\u001b[1;34m(no_copy)\u001b[0m\n\u001b[0;32m    741\u001b[0m \u001b[38;5;28;01mif\u001b[39;00m no_copy \u001b[38;5;129;01mand\u001b[39;00m forward_compat\u001b[38;5;241m.\u001b[39mforward_compatible(\u001b[38;5;241m2022\u001b[39m, \u001b[38;5;241m5\u001b[39m, \u001b[38;5;241m3\u001b[39m):\n\u001b[0;32m    742\u001b[0m   gen_resource_variable_ops\u001b[38;5;241m.\u001b[39mdisable_copy_on_read(\u001b[38;5;28mself\u001b[39m\u001b[38;5;241m.\u001b[39mhandle)\n\u001b[1;32m--> 743\u001b[0m result \u001b[38;5;241m=\u001b[39m \u001b[43mgen_resource_variable_ops\u001b[49m\u001b[38;5;241;43m.\u001b[39;49m\u001b[43mread_variable_op\u001b[49m\u001b[43m(\u001b[49m\n\u001b[0;32m    744\u001b[0m \u001b[43m    \u001b[49m\u001b[38;5;28;43mself\u001b[39;49m\u001b[38;5;241;43m.\u001b[39;49m\u001b[43mhandle\u001b[49m\u001b[43m,\u001b[49m\u001b[43m \u001b[49m\u001b[38;5;28;43mself\u001b[39;49m\u001b[38;5;241;43m.\u001b[39;49m\u001b[43m_dtype\u001b[49m\u001b[43m)\u001b[49m\n\u001b[0;32m    745\u001b[0m _maybe_set_handle_data(\u001b[38;5;28mself\u001b[39m\u001b[38;5;241m.\u001b[39m_dtype, \u001b[38;5;28mself\u001b[39m\u001b[38;5;241m.\u001b[39mhandle, result)\n\u001b[0;32m    746\u001b[0m \u001b[38;5;28;01mreturn\u001b[39;00m result\n",
      "File \u001b[1;32m~\\AppData\\Local\\Programs\\Python\\Python311\\Lib\\site-packages\\tensorflow\\python\\ops\\gen_resource_variable_ops.py:580\u001b[0m, in \u001b[0;36mread_variable_op\u001b[1;34m(resource, dtype, name)\u001b[0m\n\u001b[0;32m    578\u001b[0m \u001b[38;5;28;01mif\u001b[39;00m tld\u001b[38;5;241m.\u001b[39mis_eager:\n\u001b[0;32m    579\u001b[0m   \u001b[38;5;28;01mtry\u001b[39;00m:\n\u001b[1;32m--> 580\u001b[0m     _result \u001b[38;5;241m=\u001b[39m \u001b[43mpywrap_tfe\u001b[49m\u001b[38;5;241;43m.\u001b[39;49m\u001b[43mTFE_Py_FastPathExecute\u001b[49m\u001b[43m(\u001b[49m\n\u001b[0;32m    581\u001b[0m \u001b[43m      \u001b[49m\u001b[43m_ctx\u001b[49m\u001b[43m,\u001b[49m\u001b[43m \u001b[49m\u001b[38;5;124;43m\"\u001b[39;49m\u001b[38;5;124;43mReadVariableOp\u001b[39;49m\u001b[38;5;124;43m\"\u001b[39;49m\u001b[43m,\u001b[49m\u001b[43m \u001b[49m\u001b[43mname\u001b[49m\u001b[43m,\u001b[49m\u001b[43m \u001b[49m\u001b[43mresource\u001b[49m\u001b[43m,\u001b[49m\u001b[43m \u001b[49m\u001b[38;5;124;43m\"\u001b[39;49m\u001b[38;5;124;43mdtype\u001b[39;49m\u001b[38;5;124;43m\"\u001b[39;49m\u001b[43m,\u001b[49m\u001b[43m \u001b[49m\u001b[43mdtype\u001b[49m\u001b[43m)\u001b[49m\n\u001b[0;32m    582\u001b[0m     \u001b[38;5;28;01mreturn\u001b[39;00m _result\n\u001b[0;32m    583\u001b[0m   \u001b[38;5;28;01mexcept\u001b[39;00m _core\u001b[38;5;241m.\u001b[39m_NotOkStatusException \u001b[38;5;28;01mas\u001b[39;00m e:\n",
      "\u001b[1;31mKeyboardInterrupt\u001b[0m: "
     ]
    }
   ],
   "source": [
    "history3 = model2.fit(x=scaled_train_samples, y=train_labels, validation_split=0.1, batch_size=10, epochs=256, shuffle=True, verbose=1)"
   ]
  },
  {
   "cell_type": "code",
   "execution_count": null,
   "id": "ed61bbc1-b6f7-4e87-bef0-649c5109c4f1",
   "metadata": {},
   "outputs": [],
   "source": [
    "plt.plot(history3.history['loss'])\n",
    "plt.title('the loss of training model')\n",
    "plt.xlabel('epochs')\n",
    "plt.ylabel('loss')\n",
    "plt.show()"
   ]
  },
  {
   "cell_type": "code",
   "execution_count": null,
   "id": "d9e8264f-b7f8-4fd9-8a8a-ff682dd82de3",
   "metadata": {},
   "outputs": [],
   "source": [
    "history_dict = history3.history\n",
    "loss_values = history_dict[\"loss\"]\n",
    "val_loss_values = history_dict[\"val_loss\"]\n",
    "epochs = range(1, len(loss_values) + 1)\n",
    "plt.plot(epochs, loss_values, \"bo\", label=\"Training loss\")\n",
    "plt.plot(epochs, val_loss_values, \"b\", label=\"Validation loss\")\n",
    "plt.title(\"Training and validation loss\")\n",
    "plt.xlabel(\"Epochs\")\n",
    "plt.ylabel(\"Loss\")\n",
    "plt.legend()\n",
    "plt.show()"
   ]
  },
  {
   "cell_type": "markdown",
   "id": "474288e2-9e47-4a7b-b2e0-6f8af051d3bd",
   "metadata": {},
   "source": [
    "### predict"
   ]
  },
  {
   "cell_type": "code",
   "execution_count": null,
   "id": "22d5b6d8-f1a9-41db-a9fa-a3abb80705a6",
   "metadata": {},
   "outputs": [],
   "source": [
    "predictions3 = model2.predict(x=scaled_test_samples, batch_size=64, verbose=0)\n",
    "#print(predictions3)"
   ]
  },
  {
   "cell_type": "markdown",
   "id": "f05031bd-65ab-4286-8549-4aec3b379614",
   "metadata": {},
   "source": [
    "### Conclusion"
   ]
  },
  {
   "cell_type": "code",
   "execution_count": null,
   "id": "4adc4996-4ef7-4cd9-abb5-ad181fc29c89",
   "metadata": {},
   "outputs": [],
   "source": [
    "histogram(y_pred = predictions2, y_true = test_labels)"
   ]
  },
  {
   "cell_type": "code",
   "execution_count": null,
   "id": "dccd4a5e-435e-4500-8a31-8eafb9f05997",
   "metadata": {},
   "outputs": [],
   "source": [
    "# set offset and limitation\n",
    "offset = 0\n",
    "limit = 10\n",
    "\n",
    "limit = min(offset + limit, len(test_dataset))\n",
    "\n",
    "# rows\n",
    "tdataset3 = np.array([])\n",
    "tdataset3 = np.append(arr = tdataset, values = test_dataset[offset : (limit + offset),0])\n",
    "\n",
    "# predicted datas\n",
    "predict3 = np.array([])\n",
    "predict3 = np.append(arr = predict, values = predictions3[offset : (limit + offset),0])\n",
    "    \n",
    "# true datas\n",
    "targets3 = np.array([])\n",
    "targets3 = np.append(arr = targets, values = test_labels[offset : (limit + offset)])\n",
    "\n",
    "# print chart\n",
    "group_bar_chart(species = tdataset, y_pred = predict, y_true = targets)"
   ]
  }
 ],
 "metadata": {
  "kernelspec": {
   "display_name": "Python 3 (ipykernel)",
   "language": "python",
   "name": "python3"
  },
  "language_info": {
   "codemirror_mode": {
    "name": "ipython",
    "version": 3
   },
   "file_extension": ".py",
   "mimetype": "text/x-python",
   "name": "python",
   "nbconvert_exporter": "python",
   "pygments_lexer": "ipython3",
   "version": "3.11.2"
  }
 },
 "nbformat": 4,
 "nbformat_minor": 5
}
